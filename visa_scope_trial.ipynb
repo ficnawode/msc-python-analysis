{
 "cells": [
  {
   "cell_type": "code",
   "execution_count": 1,
   "metadata": {},
   "outputs": [],
   "source": [
    "import pyvisa\n"
   ]
  },
  {
   "cell_type": "code",
   "execution_count": null,
   "metadata": {},
   "outputs": [
    {
     "name": "stderr",
     "output_type": "stream",
     "text": [
      "2025-03-07 20:25:36,505 - pyvisa - DEBUG - Could not open VISA wrapper <class 'pyvisa.ctwrapper.highlevel.IVIVisaLibrary'>: C:\\Program Files\\IVI Foundation\\VISA\\Win64\\Lib_x64\\msc\\visa64.dll\n",
      "Error while accessing C:\\Program Files\\IVI Foundation\\VISA\\Win64\\Lib_x64\\msc\\visa64.dll: Could not find module 'C:\\Program Files\\IVI Foundation\\VISA\\Win64\\Lib_x64\\msc\\visa64.dll' (or one of its dependencies). Try using the full path with constructor syntax.\n",
      "2025-03-07 20:25:36,505 - pyvisa - DEBUG - Could not open VISA wrapper <class 'pyvisa.ctwrapper.highlevel.IVIVisaLibrary'>: C:\\Program Files\\IVI Foundation\\VISA\\Win64\\Lib_x64\\msc\\visa64.dll\n",
      "Error while accessing C:\\Program Files\\IVI Foundation\\VISA\\Win64\\Lib_x64\\msc\\visa64.dll: Could not find module 'C:\\Program Files\\IVI Foundation\\VISA\\Win64\\Lib_x64\\msc\\visa64.dll' (or one of its dependencies). Try using the full path with constructor syntax.\n",
      "2025-03-07 20:25:36,505 - pyvisa - DEBUG - Could not open VISA wrapper <class 'pyvisa.ctwrapper.highlevel.IVIVisaLibrary'>: C:\\Program Files\\IVI Foundation\\VISA\\Win64\\Lib_x64\\msc\\visa64.dll\n",
      "Error while accessing C:\\Program Files\\IVI Foundation\\VISA\\Win64\\Lib_x64\\msc\\visa64.dll: Could not find module 'C:\\Program Files\\IVI Foundation\\VISA\\Win64\\Lib_x64\\msc\\visa64.dll' (or one of its dependencies). Try using the full path with constructor syntax.\n",
      "2025-03-07 20:25:36,505 - pyvisa - DEBUG - Could not open VISA wrapper <class 'pyvisa.ctwrapper.highlevel.IVIVisaLibrary'>: C:\\Program Files\\IVI Foundation\\VISA\\Win64\\Lib_x64\\msc\\visa64.dll\n",
      "Error while accessing C:\\Program Files\\IVI Foundation\\VISA\\Win64\\Lib_x64\\msc\\visa64.dll: Could not find module 'C:\\Program Files\\IVI Foundation\\VISA\\Win64\\Lib_x64\\msc\\visa64.dll' (or one of its dependencies). Try using the full path with constructor syntax.\n",
      "2025-03-07 20:25:36,505 - pyvisa - DEBUG - Could not open VISA wrapper <class 'pyvisa.ctwrapper.highlevel.IVIVisaLibrary'>: C:\\Program Files\\IVI Foundation\\VISA\\Win64\\Lib_x64\\msc\\visa64.dll\n",
      "Error while accessing C:\\Program Files\\IVI Foundation\\VISA\\Win64\\Lib_x64\\msc\\visa64.dll: Could not find module 'C:\\Program Files\\IVI Foundation\\VISA\\Win64\\Lib_x64\\msc\\visa64.dll' (or one of its dependencies). Try using the full path with constructor syntax.\n",
      "2025-03-07 20:25:36,505 - pyvisa - DEBUG - Could not open VISA wrapper <class 'pyvisa.ctwrapper.highlevel.IVIVisaLibrary'>: C:\\Program Files\\IVI Foundation\\VISA\\Win64\\Lib_x64\\msc\\visa64.dll\n",
      "Error while accessing C:\\Program Files\\IVI Foundation\\VISA\\Win64\\Lib_x64\\msc\\visa64.dll: Could not find module 'C:\\Program Files\\IVI Foundation\\VISA\\Win64\\Lib_x64\\msc\\visa64.dll' (or one of its dependencies). Try using the full path with constructor syntax.\n",
      "2025-03-07 20:25:36,505 - pyvisa - DEBUG - Could not open VISA wrapper <class 'pyvisa.ctwrapper.highlevel.IVIVisaLibrary'>: C:\\Program Files\\IVI Foundation\\VISA\\Win64\\Lib_x64\\msc\\visa64.dll\n",
      "Error while accessing C:\\Program Files\\IVI Foundation\\VISA\\Win64\\Lib_x64\\msc\\visa64.dll: Could not find module 'C:\\Program Files\\IVI Foundation\\VISA\\Win64\\Lib_x64\\msc\\visa64.dll' (or one of its dependencies). Try using the full path with constructor syntax.\n",
      "2025-03-07 20:25:36,505 - pyvisa - DEBUG - Could not open VISA wrapper <class 'pyvisa.ctwrapper.highlevel.IVIVisaLibrary'>: C:\\Program Files\\IVI Foundation\\VISA\\Win64\\Lib_x64\\msc\\visa64.dll\n",
      "Error while accessing C:\\Program Files\\IVI Foundation\\VISA\\Win64\\Lib_x64\\msc\\visa64.dll: Could not find module 'C:\\Program Files\\IVI Foundation\\VISA\\Win64\\Lib_x64\\msc\\visa64.dll' (or one of its dependencies). Try using the full path with constructor syntax.\n"
     ]
    },
    {
     "ename": "LibraryError",
     "evalue": "Error while accessing C:\\Program Files\\IVI Foundation\\VISA\\Win64\\Lib_x64\\msc\\visa64.dll: Could not find module 'C:\\Program Files\\IVI Foundation\\VISA\\Win64\\Lib_x64\\msc\\visa64.dll' (or one of its dependencies). Try using the full path with constructor syntax.",
     "output_type": "error",
     "traceback": [
      "\u001b[1;31m---------------------------------------------------------------------------\u001b[0m",
      "\u001b[1;31mFileNotFoundError\u001b[0m                         Traceback (most recent call last)",
      "File \u001b[1;32mc:\\Users\\tobif\\AppData\\Local\\Programs\\Python\\Python310\\lib\\site-packages\\pyvisa\\ctwrapper\\highlevel.py:162\u001b[0m, in \u001b[0;36mIVIVisaLibrary._init\u001b[1;34m(self)\u001b[0m\n\u001b[0;32m    161\u001b[0m \u001b[38;5;28;01mtry\u001b[39;00m:\n\u001b[1;32m--> 162\u001b[0m     lib \u001b[38;5;241m=\u001b[39m \u001b[43mLibrary\u001b[49m\u001b[43m(\u001b[49m\u001b[38;5;28;43mself\u001b[39;49m\u001b[38;5;241;43m.\u001b[39;49m\u001b[43mlibrary_path\u001b[49m\u001b[43m)\u001b[49m\n\u001b[0;32m    163\u001b[0m \u001b[38;5;28;01mexcept\u001b[39;00m \u001b[38;5;167;01mOSError\u001b[39;00m \u001b[38;5;28;01mas\u001b[39;00m exc:\n",
      "File \u001b[1;32mc:\\Users\\tobif\\AppData\\Local\\Programs\\Python\\Python310\\lib\\ctypes\\__init__.py:374\u001b[0m, in \u001b[0;36mCDLL.__init__\u001b[1;34m(self, name, mode, handle, use_errno, use_last_error, winmode)\u001b[0m\n\u001b[0;32m    373\u001b[0m \u001b[38;5;28;01mif\u001b[39;00m handle \u001b[38;5;129;01mis\u001b[39;00m \u001b[38;5;28;01mNone\u001b[39;00m:\n\u001b[1;32m--> 374\u001b[0m     \u001b[38;5;28mself\u001b[39m\u001b[38;5;241m.\u001b[39m_handle \u001b[38;5;241m=\u001b[39m \u001b[43m_dlopen\u001b[49m\u001b[43m(\u001b[49m\u001b[38;5;28;43mself\u001b[39;49m\u001b[38;5;241;43m.\u001b[39;49m\u001b[43m_name\u001b[49m\u001b[43m,\u001b[49m\u001b[43m \u001b[49m\u001b[43mmode\u001b[49m\u001b[43m)\u001b[49m\n\u001b[0;32m    375\u001b[0m \u001b[38;5;28;01melse\u001b[39;00m:\n",
      "\u001b[1;31mFileNotFoundError\u001b[0m: Could not find module 'C:\\Program Files\\IVI Foundation\\VISA\\Win64\\Lib_x64\\msc\\visa64.dll' (or one of its dependencies). Try using the full path with constructor syntax.",
      "\nDuring handling of the above exception, another exception occurred:\n",
      "\u001b[1;31mLibraryError\u001b[0m                              Traceback (most recent call last)",
      "Cell \u001b[1;32mIn[10], line 5\u001b[0m\n\u001b[0;32m      2\u001b[0m pyvisa\u001b[38;5;241m.\u001b[39mlog_to_screen()\n\u001b[0;32m      4\u001b[0m visa_path \u001b[38;5;241m=\u001b[39m \u001b[38;5;124mr\u001b[39m\u001b[38;5;124m\"\u001b[39m\u001b[38;5;124mC:\u001b[39m\u001b[38;5;124m\\\u001b[39m\u001b[38;5;124mProgram Files\u001b[39m\u001b[38;5;124m\\\u001b[39m\u001b[38;5;124mIVI Foundation\u001b[39m\u001b[38;5;124m\\\u001b[39m\u001b[38;5;124mVISA\u001b[39m\u001b[38;5;124m\\\u001b[39m\u001b[38;5;124mWin64\u001b[39m\u001b[38;5;124m\\\u001b[39m\u001b[38;5;124mLib_x64\u001b[39m\u001b[38;5;124m\\\u001b[39m\u001b[38;5;124mmsc\u001b[39m\u001b[38;5;124m\\\u001b[39m\u001b[38;5;124mvisa64.dll\u001b[39m\u001b[38;5;124m\"\u001b[39m\n\u001b[1;32m----> 5\u001b[0m rm \u001b[38;5;241m=\u001b[39m \u001b[43mpyvisa\u001b[49m\u001b[38;5;241;43m.\u001b[39;49m\u001b[43mResourceManager\u001b[49m\u001b[43m(\u001b[49m\u001b[43mvisa_path\u001b[49m\u001b[43m)\u001b[49m\n\u001b[0;32m      6\u001b[0m \u001b[38;5;66;03m# devices = rm.list_resources()\u001b[39;00m\n",
      "File \u001b[1;32mc:\\Users\\tobif\\AppData\\Local\\Programs\\Python\\Python310\\lib\\site-packages\\pyvisa\\highlevel.py:2992\u001b[0m, in \u001b[0;36mResourceManager.__new__\u001b[1;34m(cls, visa_library)\u001b[0m\n\u001b[0;32m   2982\u001b[0m \u001b[38;5;250m\u001b[39m\u001b[38;5;124;03m\"\"\"Create a new resource manager tied to the specified VISA library.\u001b[39;00m\n\u001b[0;32m   2983\u001b[0m \n\u001b[0;32m   2984\u001b[0m \u001b[38;5;124;03mParameters\u001b[39;00m\n\u001b[1;32m   (...)\u001b[0m\n\u001b[0;32m   2989\u001b[0m \n\u001b[0;32m   2990\u001b[0m \u001b[38;5;124;03m\"\"\"\u001b[39;00m\n\u001b[0;32m   2991\u001b[0m \u001b[38;5;28;01mif\u001b[39;00m \u001b[38;5;129;01mnot\u001b[39;00m \u001b[38;5;28misinstance\u001b[39m(visa_library, VisaLibraryBase):\n\u001b[1;32m-> 2992\u001b[0m     visa_library \u001b[38;5;241m=\u001b[39m \u001b[43mopen_visa_library\u001b[49m\u001b[43m(\u001b[49m\u001b[43mvisa_library\u001b[49m\u001b[43m)\u001b[49m\n\u001b[0;32m   2994\u001b[0m \u001b[38;5;28;01mif\u001b[39;00m visa_library\u001b[38;5;241m.\u001b[39mresource_manager \u001b[38;5;129;01mis\u001b[39;00m \u001b[38;5;129;01mnot\u001b[39;00m \u001b[38;5;28;01mNone\u001b[39;00m:\n\u001b[0;32m   2995\u001b[0m     obj \u001b[38;5;241m=\u001b[39m visa_library\u001b[38;5;241m.\u001b[39mresource_manager\n",
      "File \u001b[1;32mc:\\Users\\tobif\\AppData\\Local\\Programs\\Python\\Python310\\lib\\site-packages\\pyvisa\\highlevel.py:2904\u001b[0m, in \u001b[0;36mopen_visa_library\u001b[1;34m(specification)\u001b[0m\n\u001b[0;32m   2901\u001b[0m \u001b[38;5;28mcls\u001b[39m \u001b[38;5;241m=\u001b[39m get_wrapper_class(wrapper)\n\u001b[0;32m   2903\u001b[0m \u001b[38;5;28;01mtry\u001b[39;00m:\n\u001b[1;32m-> 2904\u001b[0m     \u001b[38;5;28;01mreturn\u001b[39;00m \u001b[38;5;28;43mcls\u001b[39;49m\u001b[43m(\u001b[49m\u001b[43margument\u001b[49m\u001b[43m)\u001b[49m\n\u001b[0;32m   2905\u001b[0m \u001b[38;5;28;01mexcept\u001b[39;00m \u001b[38;5;167;01mException\u001b[39;00m \u001b[38;5;28;01mas\u001b[39;00m e:\n\u001b[0;32m   2906\u001b[0m     logger\u001b[38;5;241m.\u001b[39mdebug(\u001b[38;5;124m\"\u001b[39m\u001b[38;5;124mCould not open VISA wrapper \u001b[39m\u001b[38;5;132;01m%s\u001b[39;00m\u001b[38;5;124m: \u001b[39m\u001b[38;5;132;01m%s\u001b[39;00m\u001b[38;5;130;01m\\n\u001b[39;00m\u001b[38;5;132;01m%s\u001b[39;00m\u001b[38;5;124m\"\u001b[39m, \u001b[38;5;28mcls\u001b[39m, \u001b[38;5;28mstr\u001b[39m(argument), e)\n",
      "File \u001b[1;32mc:\\Users\\tobif\\AppData\\Local\\Programs\\Python\\Python310\\lib\\site-packages\\pyvisa\\highlevel.py:191\u001b[0m, in \u001b[0;36mVisaLibraryBase.__new__\u001b[1;34m(cls, library_path)\u001b[0m\n\u001b[0;32m    187\u001b[0m obj\u001b[38;5;241m.\u001b[39mlibrary_path \u001b[38;5;241m=\u001b[39m lib_path\n\u001b[0;32m    189\u001b[0m obj\u001b[38;5;241m.\u001b[39m_logging_extra \u001b[38;5;241m=\u001b[39m {\u001b[38;5;124m\"\u001b[39m\u001b[38;5;124mlibrary_path\u001b[39m\u001b[38;5;124m\"\u001b[39m: obj\u001b[38;5;241m.\u001b[39mlibrary_path}\n\u001b[1;32m--> 191\u001b[0m \u001b[43mobj\u001b[49m\u001b[38;5;241;43m.\u001b[39;49m\u001b[43m_init\u001b[49m\u001b[43m(\u001b[49m\u001b[43m)\u001b[49m\n\u001b[0;32m    193\u001b[0m \u001b[38;5;66;03m# Create instance specific registries.\u001b[39;00m\n\u001b[0;32m    194\u001b[0m \u001b[38;5;66;03m#: Error codes on which to issue a warning.\u001b[39;00m\n\u001b[0;32m    195\u001b[0m obj\u001b[38;5;241m.\u001b[39missue_warning_on \u001b[38;5;241m=\u001b[39m \u001b[38;5;28mset\u001b[39m(errors\u001b[38;5;241m.\u001b[39mdefault_warnings)\n",
      "File \u001b[1;32mc:\\Users\\tobif\\AppData\\Local\\Programs\\Python\\Python310\\lib\\site-packages\\pyvisa\\ctwrapper\\highlevel.py:164\u001b[0m, in \u001b[0;36mIVIVisaLibrary._init\u001b[1;34m(self)\u001b[0m\n\u001b[0;32m    162\u001b[0m     lib \u001b[38;5;241m=\u001b[39m Library(\u001b[38;5;28mself\u001b[39m\u001b[38;5;241m.\u001b[39mlibrary_path)\n\u001b[0;32m    163\u001b[0m \u001b[38;5;28;01mexcept\u001b[39;00m \u001b[38;5;167;01mOSError\u001b[39;00m \u001b[38;5;28;01mas\u001b[39;00m exc:\n\u001b[1;32m--> 164\u001b[0m     \u001b[38;5;28;01mraise\u001b[39;00m errors\u001b[38;5;241m.\u001b[39mLibraryError\u001b[38;5;241m.\u001b[39mfrom_exception(exc, \u001b[38;5;28mself\u001b[39m\u001b[38;5;241m.\u001b[39mlibrary_path)\n\u001b[0;32m    166\u001b[0m \u001b[38;5;28mself\u001b[39m\u001b[38;5;241m.\u001b[39mlib \u001b[38;5;241m=\u001b[39m lib\n\u001b[0;32m    167\u001b[0m \u001b[38;5;28mself\u001b[39m\u001b[38;5;241m.\u001b[39m_async_read_jobs: List[Tuple[types\u001b[38;5;241m.\u001b[39mViJobId, SupportsBytes]] \u001b[38;5;241m=\u001b[39m []\n",
      "\u001b[1;31mLibraryError\u001b[0m: Error while accessing C:\\Program Files\\IVI Foundation\\VISA\\Win64\\Lib_x64\\msc\\visa64.dll: Could not find module 'C:\\Program Files\\IVI Foundation\\VISA\\Win64\\Lib_x64\\msc\\visa64.dll' (or one of its dependencies). Try using the full path with constructor syntax."
     ]
    }
   ],
   "source": [
    "import pyvisa\n",
    "pyvisa.log_to_screen()\n",
    "\n",
    "visa_path = r\"C:/Program Files/IVI Foundation/VISA\\Win64/Lib_x64/msc/visa64.dll\"\n",
    "rm = pyvisa.ResourceManager(visa_path)\n",
    "# devices = rm.list_resources()\n"
   ]
  },
  {
   "cell_type": "code",
   "execution_count": null,
   "metadata": {},
   "outputs": [],
   "source": [
    "\n",
    "print(\"Connected instruments:\")\n",
    "for device in devices:\n",
    "    print(device)\n"
   ]
  },
  {
   "cell_type": "code",
   "execution_count": null,
   "metadata": {},
   "outputs": [],
   "source": [
    "\n",
    "rm = pyvisa.ResourceManager()\n",
    "devices = rm.list_resources()\n",
    "\n",
    "print(\"Connected instruments:\")\n",
    "for device in devices:\n",
    "    print(device)\n"
   ]
  },
  {
   "cell_type": "code",
   "execution_count": 4,
   "metadata": {},
   "outputs": [
    {
     "name": "stderr",
     "output_type": "stream",
     "text": [
      "2025-03-07 20:17:53,961 - pyvisa - DEBUG - Reusing ResourceManager with session 4102849680\n",
      "2025-03-07 20:17:53,961 - pyvisa - DEBUG - Reusing ResourceManager with session 4102849680\n",
      "2025-03-07 20:17:53,962 - pyvisa - DEBUG - viParseRsrcEx(4102849680, 'USB::0x0699::0x036A::C100158::INSTR', 'c_ushort(0)', 'c_ushort(0)', <ctypes.c_char_Array_256 object at 0x00000266F54C45C0>, <ctypes.c_char_Array_256 object at 0x00000266F54C4640>, <ctypes.c_char_Array_256 object at 0x00000266F54C46C0>) -> -1073807346\n",
      "2025-03-07 20:17:53,962 - pyvisa - DEBUG - viParseRsrcEx(4102849680, 'USB::0x0699::0x036A::C100158::INSTR', 'c_ushort(0)', 'c_ushort(0)', <ctypes.c_char_Array_256 object at 0x00000266F54C45C0>, <ctypes.c_char_Array_256 object at 0x00000266F54C4640>, <ctypes.c_char_Array_256 object at 0x00000266F54C46C0>) -> -1073807346\n"
     ]
    },
    {
     "ename": "VisaIOError",
     "evalue": "VI_ERROR_INV_OBJECT (-1073807346): The given session or object reference is invalid.",
     "output_type": "error",
     "traceback": [
      "\u001b[1;31m---------------------------------------------------------------------------\u001b[0m",
      "\u001b[1;31mVisaIOError\u001b[0m                               Traceback (most recent call last)",
      "Cell \u001b[1;32mIn[4], line 5\u001b[0m\n\u001b[0;32m      3\u001b[0m \u001b[38;5;66;03m# Initialize VISA resource manager\u001b[39;00m\n\u001b[0;32m      4\u001b[0m rm \u001b[38;5;241m=\u001b[39m pyvisa\u001b[38;5;241m.\u001b[39mResourceManager(visa_path)\n\u001b[1;32m----> 5\u001b[0m scope \u001b[38;5;241m=\u001b[39m \u001b[43mrm\u001b[49m\u001b[38;5;241;43m.\u001b[39;49m\u001b[43mopen_resource\u001b[49m\u001b[43m(\u001b[49m\u001b[38;5;124;43m'\u001b[39;49m\u001b[38;5;124;43mUSB::0x0699::0x036A::C100158::INSTR\u001b[39;49m\u001b[38;5;124;43m'\u001b[39;49m\u001b[43m)\u001b[49m  \u001b[38;5;66;03m# Update with your oscilloscope ID\u001b[39;00m\n\u001b[0;32m      7\u001b[0m \u001b[38;5;66;03m# Check connection\u001b[39;00m\n\u001b[0;32m      8\u001b[0m \u001b[38;5;28mprint\u001b[39m(scope\u001b[38;5;241m.\u001b[39mquery(\u001b[38;5;124m'\u001b[39m\u001b[38;5;124m*IDN?\u001b[39m\u001b[38;5;124m'\u001b[39m))  \u001b[38;5;66;03m# Should return Tektronix TDS2024B info\u001b[39;00m\n",
      "File \u001b[1;32mc:\\Users\\tobif\\AppData\\Local\\Programs\\Python\\Python310\\lib\\site-packages\\pyvisa\\highlevel.py:3255\u001b[0m, in \u001b[0;36mResourceManager.open_resource\u001b[1;34m(self, resource_name, access_mode, open_timeout, resource_pyclass, **kwargs)\u001b[0m\n\u001b[0;32m   3227\u001b[0m \u001b[38;5;250m\u001b[39m\u001b[38;5;124;03m\"\"\"Return an instrument for the resource name.\u001b[39;00m\n\u001b[0;32m   3228\u001b[0m \n\u001b[0;32m   3229\u001b[0m \u001b[38;5;124;03mParameters\u001b[39;00m\n\u001b[1;32m   (...)\u001b[0m\n\u001b[0;32m   3252\u001b[0m \n\u001b[0;32m   3253\u001b[0m \u001b[38;5;124;03m\"\"\"\u001b[39;00m\n\u001b[0;32m   3254\u001b[0m \u001b[38;5;28;01mif\u001b[39;00m resource_pyclass \u001b[38;5;129;01mis\u001b[39;00m \u001b[38;5;28;01mNone\u001b[39;00m:\n\u001b[1;32m-> 3255\u001b[0m     info \u001b[38;5;241m=\u001b[39m \u001b[38;5;28;43mself\u001b[39;49m\u001b[38;5;241;43m.\u001b[39;49m\u001b[43mresource_info\u001b[49m\u001b[43m(\u001b[49m\u001b[43mresource_name\u001b[49m\u001b[43m,\u001b[49m\u001b[43m \u001b[49m\u001b[43mextended\u001b[49m\u001b[38;5;241;43m=\u001b[39;49m\u001b[38;5;28;43;01mTrue\u001b[39;49;00m\u001b[43m)\u001b[49m\n\u001b[0;32m   3257\u001b[0m     \u001b[38;5;28;01mtry\u001b[39;00m:\n\u001b[0;32m   3258\u001b[0m         \u001b[38;5;66;03m# When using querying extended resource info the resource_class is not\u001b[39;00m\n\u001b[0;32m   3259\u001b[0m         \u001b[38;5;66;03m# None\u001b[39;00m\n\u001b[0;32m   3260\u001b[0m         resource_pyclass \u001b[38;5;241m=\u001b[39m \u001b[38;5;28mself\u001b[39m\u001b[38;5;241m.\u001b[39m_resource_classes[\n\u001b[0;32m   3261\u001b[0m             (info\u001b[38;5;241m.\u001b[39minterface_type, info\u001b[38;5;241m.\u001b[39mresource_class)  \u001b[38;5;66;03m# type: ignore\u001b[39;00m\n\u001b[0;32m   3262\u001b[0m         ]\n",
      "File \u001b[1;32mc:\\Users\\tobif\\AppData\\Local\\Programs\\Python\\Python310\\lib\\site-packages\\pyvisa\\highlevel.py:3182\u001b[0m, in \u001b[0;36mResourceManager.resource_info\u001b[1;34m(self, resource_name, extended)\u001b[0m\n\u001b[0;32m   3170\u001b[0m \u001b[38;5;250m\u001b[39m\u001b[38;5;124;03m\"\"\"Get the (extended) information of a particular resource.\u001b[39;00m\n\u001b[0;32m   3171\u001b[0m \n\u001b[0;32m   3172\u001b[0m \u001b[38;5;124;03mParameters\u001b[39;00m\n\u001b[1;32m   (...)\u001b[0m\n\u001b[0;32m   3178\u001b[0m \n\u001b[0;32m   3179\u001b[0m \u001b[38;5;124;03m\"\"\"\u001b[39;00m\n\u001b[0;32m   3181\u001b[0m \u001b[38;5;28;01mif\u001b[39;00m extended:\n\u001b[1;32m-> 3182\u001b[0m     ret, err \u001b[38;5;241m=\u001b[39m \u001b[38;5;28;43mself\u001b[39;49m\u001b[38;5;241;43m.\u001b[39;49m\u001b[43mvisalib\u001b[49m\u001b[38;5;241;43m.\u001b[39;49m\u001b[43mparse_resource_extended\u001b[49m\u001b[43m(\u001b[49m\u001b[38;5;28;43mself\u001b[39;49m\u001b[38;5;241;43m.\u001b[39;49m\u001b[43msession\u001b[49m\u001b[43m,\u001b[49m\u001b[43m \u001b[49m\u001b[43mresource_name\u001b[49m\u001b[43m)\u001b[49m\n\u001b[0;32m   3183\u001b[0m \u001b[38;5;28;01melse\u001b[39;00m:\n\u001b[0;32m   3184\u001b[0m     ret, err \u001b[38;5;241m=\u001b[39m \u001b[38;5;28mself\u001b[39m\u001b[38;5;241m.\u001b[39mvisalib\u001b[38;5;241m.\u001b[39mparse_resource(\u001b[38;5;28mself\u001b[39m\u001b[38;5;241m.\u001b[39msession, resource_name)\n",
      "File \u001b[1;32mc:\\Users\\tobif\\AppData\\Local\\Programs\\Python\\Python310\\lib\\site-packages\\pyvisa\\ctwrapper\\functions.py:2076\u001b[0m, in \u001b[0;36mparse_resource_extended\u001b[1;34m(library, session, resource_name)\u001b[0m\n\u001b[0;32m   2072\u001b[0m alias_if_exists \u001b[38;5;241m=\u001b[39m create_string_buffer(constants\u001b[38;5;241m.\u001b[39mVI_FIND_BUFLEN)\n\u001b[0;32m   2074\u001b[0m \u001b[38;5;66;03m# [ViSession, ViRsrc, ViPUInt16, ViPUInt16, ViAChar, ViAChar, ViAChar]\u001b[39;00m\n\u001b[0;32m   2075\u001b[0m \u001b[38;5;66;03m# ViRsrc converts from (str, unicode, bytes) to bytes\u001b[39;00m\n\u001b[1;32m-> 2076\u001b[0m ret \u001b[38;5;241m=\u001b[39m \u001b[43mlibrary\u001b[49m\u001b[38;5;241;43m.\u001b[39;49m\u001b[43mviParseRsrcEx\u001b[49m\u001b[43m(\u001b[49m\n\u001b[0;32m   2077\u001b[0m \u001b[43m    \u001b[49m\u001b[43msession\u001b[49m\u001b[43m,\u001b[49m\n\u001b[0;32m   2078\u001b[0m \u001b[43m    \u001b[49m\u001b[43mresource_name\u001b[49m\u001b[43m,\u001b[49m\n\u001b[0;32m   2079\u001b[0m \u001b[43m    \u001b[49m\u001b[43mbyref\u001b[49m\u001b[43m(\u001b[49m\u001b[43minterface_type\u001b[49m\u001b[43m)\u001b[49m\u001b[43m,\u001b[49m\n\u001b[0;32m   2080\u001b[0m \u001b[43m    \u001b[49m\u001b[43mbyref\u001b[49m\u001b[43m(\u001b[49m\u001b[43minterface_board_number\u001b[49m\u001b[43m)\u001b[49m\u001b[43m,\u001b[49m\n\u001b[0;32m   2081\u001b[0m \u001b[43m    \u001b[49m\u001b[43mresource_class\u001b[49m\u001b[43m,\u001b[49m\n\u001b[0;32m   2082\u001b[0m \u001b[43m    \u001b[49m\u001b[43munaliased_expanded_resource_name\u001b[49m\u001b[43m,\u001b[49m\n\u001b[0;32m   2083\u001b[0m \u001b[43m    \u001b[49m\u001b[43malias_if_exists\u001b[49m\u001b[43m,\u001b[49m\n\u001b[0;32m   2084\u001b[0m \u001b[43m\u001b[49m\u001b[43m)\u001b[49m\n\u001b[0;32m   2086\u001b[0m res \u001b[38;5;241m=\u001b[39m [\n\u001b[0;32m   2087\u001b[0m     buffer_to_text(val)\n\u001b[0;32m   2088\u001b[0m     \u001b[38;5;28;01mfor\u001b[39;00m val \u001b[38;5;129;01min\u001b[39;00m (resource_class, unaliased_expanded_resource_name, alias_if_exists)\n\u001b[0;32m   2089\u001b[0m ]\n\u001b[0;32m   2091\u001b[0m \u001b[38;5;28;01mif\u001b[39;00m res[\u001b[38;5;241m-\u001b[39m\u001b[38;5;241m1\u001b[39m] \u001b[38;5;241m==\u001b[39m \u001b[38;5;124m\"\u001b[39m\u001b[38;5;124m\"\u001b[39m:\n",
      "File \u001b[1;32mc:\\Users\\tobif\\AppData\\Local\\Programs\\Python\\Python310\\lib\\site-packages\\pyvisa\\ctwrapper\\highlevel.py:226\u001b[0m, in \u001b[0;36mIVIVisaLibrary._return_handler\u001b[1;34m(self, ret_value, func, arguments)\u001b[0m\n\u001b[0;32m    223\u001b[0m         \u001b[38;5;66;03m# Set session back to a safe value\u001b[39;00m\n\u001b[0;32m    224\u001b[0m         session \u001b[38;5;241m=\u001b[39m \u001b[38;5;28;01mNone\u001b[39;00m\n\u001b[1;32m--> 226\u001b[0m \u001b[38;5;28;01mreturn\u001b[39;00m \u001b[38;5;28;43mself\u001b[39;49m\u001b[38;5;241;43m.\u001b[39;49m\u001b[43mhandle_return_value\u001b[49m\u001b[43m(\u001b[49m\u001b[43msession\u001b[49m\u001b[43m,\u001b[49m\u001b[43m \u001b[49m\u001b[43mret_value\u001b[49m\u001b[43m)\u001b[49m\n",
      "File \u001b[1;32mc:\\Users\\tobif\\AppData\\Local\\Programs\\Python\\Python310\\lib\\site-packages\\pyvisa\\highlevel.py:251\u001b[0m, in \u001b[0;36mVisaLibraryBase.handle_return_value\u001b[1;34m(self, session, status_code)\u001b[0m\n\u001b[0;32m    248\u001b[0m     \u001b[38;5;28mself\u001b[39m\u001b[38;5;241m.\u001b[39m_last_status_in_session[session] \u001b[38;5;241m=\u001b[39m rv\n\u001b[0;32m    250\u001b[0m \u001b[38;5;28;01mif\u001b[39;00m rv \u001b[38;5;241m<\u001b[39m \u001b[38;5;241m0\u001b[39m:\n\u001b[1;32m--> 251\u001b[0m     \u001b[38;5;28;01mraise\u001b[39;00m errors\u001b[38;5;241m.\u001b[39mVisaIOError(rv)\n\u001b[0;32m    253\u001b[0m \u001b[38;5;28;01mif\u001b[39;00m rv \u001b[38;5;129;01min\u001b[39;00m \u001b[38;5;28mself\u001b[39m\u001b[38;5;241m.\u001b[39missue_warning_on:\n\u001b[0;32m    254\u001b[0m     \u001b[38;5;28;01mif\u001b[39;00m session \u001b[38;5;129;01mand\u001b[39;00m rv \u001b[38;5;129;01mnot\u001b[39;00m \u001b[38;5;129;01min\u001b[39;00m \u001b[38;5;28mself\u001b[39m\u001b[38;5;241m.\u001b[39m_ignore_warning_in_session[session]:\n",
      "\u001b[1;31mVisaIOError\u001b[0m: VI_ERROR_INV_OBJECT (-1073807346): The given session or object reference is invalid."
     ]
    }
   ],
   "source": [
    "import pyvisa\n",
    "\n",
    "# Initialize VISA resource manager\n",
    "rm = pyvisa.ResourceManager(visa_path)\n",
    "scope = rm.open_resource('USB::0x0699::0x036A::C100158::INSTR')  # Update with your oscilloscope ID\n",
    "\n",
    "# Check connection\n",
    "print(scope.query('*IDN?'))  # Should return Tektronix TDS2024B info\n",
    "\n",
    "# Acquire waveform data\n",
    "scope.write('DATA:SOURCE CH1')  # Select channel\n",
    "scope.write('DATA:WIDTH 1')      # Set data width\n",
    "scope.write('DATA:ENC RPB')      # Set encoding (RPB = Binary)\n",
    "\n",
    "# Get waveform preamble\n",
    "preamble = scope.query('WFMPRE?')\n",
    "print(f\"Preamble: {preamble}\")\n",
    "\n",
    "# Read waveform data\n",
    "scope.write('CURVE?')\n",
    "waveform_data = scope.read_raw()\n",
    "\n",
    "# Process and save data\n",
    "with open(\"waveform.bin\", \"wb\") as f:\n",
    "    f.write(waveform_data)\n",
    "\n",
    "print(\"Waveform data saved!\")\n",
    "\n",
    "# Close connection\n",
    "scope.close()"
   ]
  },
  {
   "cell_type": "code",
   "execution_count": null,
   "metadata": {},
   "outputs": [],
   "source": []
  }
 ],
 "metadata": {
  "kernelspec": {
   "display_name": "Python 3",
   "language": "python",
   "name": "python3"
  },
  "language_info": {
   "codemirror_mode": {
    "name": "ipython",
    "version": 3
   },
   "file_extension": ".py",
   "mimetype": "text/x-python",
   "name": "python",
   "nbconvert_exporter": "python",
   "pygments_lexer": "ipython3",
   "version": "3.10.11"
  }
 },
 "nbformat": 4,
 "nbformat_minor": 2
}
