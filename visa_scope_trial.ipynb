{
 "cells": [
  {
   "cell_type": "code",
   "execution_count": 1,
   "metadata": {},
   "outputs": [],
   "source": [
    "import pyvisa\n"
   ]
  },
  {
   "cell_type": "code",
   "execution_count": 13,
   "metadata": {},
   "outputs": [
    {
     "name": "stderr",
     "output_type": "stream",
     "text": [
      "2025-03-07 20:48:02,325 - pyvisa - DEBUG - Reusing ResourceManager with session 1\n",
      "2025-03-07 20:48:02,325 - pyvisa - DEBUG - Reusing ResourceManager with session 1\n",
      "2025-03-07 20:48:02,412 - pyvisa - DEBUG - viFindRsrc(1, '?*::INSTR', '<ViObject object at 0x00000143B2465BC0>', 'c_ulong(2)', <ctypes.c_char_Array_256 object at 0x00000143B2377740>) -> 0\n",
      "2025-03-07 20:48:02,412 - pyvisa - DEBUG - viFindRsrc(1, '?*::INSTR', '<ViObject object at 0x00000143B2465BC0>', 'c_ulong(2)', <ctypes.c_char_Array_256 object at 0x00000143B2377740>) -> 0\n",
      "2025-03-07 20:48:02,413 - pyvisa - DEBUG - viFindNext(<ViObject object at 0x00000143B2465BC0>, <ctypes.c_char_Array_256 object at 0x00000143B24662C0>) -> 0\n",
      "2025-03-07 20:48:02,413 - pyvisa - DEBUG - viFindNext(<ViObject object at 0x00000143B2465BC0>, <ctypes.c_char_Array_256 object at 0x00000143B24662C0>) -> 0\n",
      "2025-03-07 20:48:02,414 - pyvisa - DEBUG - viClose(<ViObject object at 0x00000143B2465BC0>,) -> 0\n",
      "2025-03-07 20:48:02,414 - pyvisa - DEBUG - viClose(<ViObject object at 0x00000143B2465BC0>,) -> 0\n"
     ]
    }
   ],
   "source": [
    "import pyvisa\n",
    "# pyvisa.log_to_screen()\n",
    "\n",
    "visa_path = r\"C:/Windows/System32/visa64.dll\"\n",
    "rm = pyvisa.ResourceManager(visa_path)\n",
    "devices = rm.list_resources()\n"
   ]
  },
  {
   "cell_type": "code",
   "execution_count": 14,
   "metadata": {},
   "outputs": [
    {
     "name": "stdout",
     "output_type": "stream",
     "text": [
      "Connected instruments:\n",
      "0: USB0::0x0699::0x036A::C100158::INSTR\n",
      "1: ASRL5::INSTR\n"
     ]
    }
   ],
   "source": [
    "\n",
    "print(\"Connected instruments:\")\n",
    "for i, device in enumerate(devices):\n",
    "    print(f\"{i}:\", device)\n"
   ]
  },
  {
   "cell_type": "code",
   "execution_count": 15,
   "metadata": {},
   "outputs": [
    {
     "name": "stderr",
     "output_type": "stream",
     "text": [
      "2025-03-07 20:48:04,007 - pyvisa - DEBUG - viParseRsrcEx(1, 'USB0::0x0699::0x036A::C100158::INSTR', 'c_ushort(7)', 'c_ushort(0)', <ctypes.c_char_Array_256 object at 0x00000143B24662C0>, <ctypes.c_char_Array_256 object at 0x00000143B2377740>, <ctypes.c_char_Array_256 object at 0x00000143B2376F40>) -> 0\n",
      "2025-03-07 20:48:04,007 - pyvisa - DEBUG - viParseRsrcEx(1, 'USB0::0x0699::0x036A::C100158::INSTR', 'c_ushort(7)', 'c_ushort(0)', <ctypes.c_char_Array_256 object at 0x00000143B24662C0>, <ctypes.c_char_Array_256 object at 0x00000143B2377740>, <ctypes.c_char_Array_256 object at 0x00000143B2376F40>) -> 0\n",
      "2025-03-07 20:48:04,009 - pyvisa - DEBUG - USB0::0x0699::0x036A::C100158::0::INSTR - opening ...\n",
      "2025-03-07 20:48:04,009 - pyvisa - DEBUG - USB0::0x0699::0x036A::C100158::0::INSTR - opening ...\n",
      "2025-03-07 20:48:04,015 - pyvisa - DEBUG - viOpen(1, 'USB0::0x0699::0x036A::C100158::0::INSTR', <AccessModes.no_lock: 0>, 0, '<ViObject object at 0x00000143B2465BC0>') -> 0\n",
      "2025-03-07 20:48:04,015 - pyvisa - DEBUG - viOpen(1, 'USB0::0x0699::0x036A::C100158::0::INSTR', <AccessModes.no_lock: 0>, 0, '<ViObject object at 0x00000143B2465BC0>') -> 0\n",
      "2025-03-07 20:48:04,016 - pyvisa - DEBUG - USB0::0x0699::0x036A::C100158::0::INSTR - is open with session 5\n",
      "2025-03-07 20:48:04,016 - pyvisa - DEBUG - USB0::0x0699::0x036A::C100158::0::INSTR - is open with session 5\n"
     ]
    }
   ],
   "source": [
    "\n",
    "scope = rm.open_resource(devices[0])  "
   ]
  },
  {
   "cell_type": "code",
   "execution_count": 16,
   "metadata": {},
   "outputs": [
    {
     "name": "stderr",
     "output_type": "stream",
     "text": [
      "2025-03-07 20:48:04,880 - pyvisa - DEBUG - viWrite(5, b'*IDN?\\r\\n', 7, 'c_ulong(7)') -> 0\n",
      "2025-03-07 20:48:04,880 - pyvisa - DEBUG - viWrite(5, b'*IDN?\\r\\n', 7, 'c_ulong(7)') -> 0\n",
      "2025-03-07 20:48:04,881 - pyvisa - DEBUG - USB0::0x0699::0x036A::C100158::0::INSTR - reading 20480 bytes (last status <StatusCode.success_max_count_read: 1073676294>)\n",
      "2025-03-07 20:48:04,881 - pyvisa - DEBUG - USB0::0x0699::0x036A::C100158::0::INSTR - reading 20480 bytes (last status <StatusCode.success_max_count_read: 1073676294>)\n",
      "2025-03-07 20:48:04,943 - pyvisa - DEBUG - viRead(5, <ctypes.c_char_Array_20480 object at 0x00000143B2377640>, 20480, 'c_ulong(48)') -> 0\n",
      "2025-03-07 20:48:04,943 - pyvisa - DEBUG - viRead(5, <ctypes.c_char_Array_20480 object at 0x00000143B2377640>, 20480, 'c_ulong(48)') -> 0\n"
     ]
    },
    {
     "name": "stdout",
     "output_type": "stream",
     "text": [
      "TEKTRONIX,TDS 2024B,C100158,CF:91.1CT FV:v22.16\n",
      "\n"
     ]
    }
   ],
   "source": [
    "print(scope.query('*IDN?'))  # Should return Tektronix TDS2024B info\n"
   ]
  },
  {
   "cell_type": "code",
   "execution_count": 17,
   "metadata": {},
   "outputs": [
    {
     "name": "stderr",
     "output_type": "stream",
     "text": [
      "2025-03-07 20:48:06,098 - pyvisa - DEBUG - viWrite(5, b'DATA:SOURCE CH1\\r\\n', 17, 'c_ulong(17)') -> 0\n",
      "2025-03-07 20:48:06,098 - pyvisa - DEBUG - viWrite(5, b'DATA:SOURCE CH1\\r\\n', 17, 'c_ulong(17)') -> 0\n",
      "2025-03-07 20:48:06,100 - pyvisa - DEBUG - viWrite(5, b'DATA:WIDTH 1\\r\\n', 14, 'c_ulong(14)') -> 0\n",
      "2025-03-07 20:48:06,100 - pyvisa - DEBUG - viWrite(5, b'DATA:WIDTH 1\\r\\n', 14, 'c_ulong(14)') -> 0\n",
      "2025-03-07 20:48:06,148 - pyvisa - DEBUG - viWrite(5, b'DATA:ENC RPB\\r\\n', 14, 'c_ulong(14)') -> 0\n",
      "2025-03-07 20:48:06,148 - pyvisa - DEBUG - viWrite(5, b'DATA:ENC RPB\\r\\n', 14, 'c_ulong(14)') -> 0\n"
     ]
    },
    {
     "data": {
      "text/plain": [
       "14"
      ]
     },
     "execution_count": 17,
     "metadata": {},
     "output_type": "execute_result"
    }
   ],
   "source": [
    "\n",
    "scope.write('DATA:SOURCE CH1')  # Select channel\n",
    "scope.write('DATA:WIDTH 1')      # Set data width\n",
    "scope.write('DATA:ENC RPB')      # Set encoding (RPB = Binary)\n"
   ]
  },
  {
   "cell_type": "code",
   "execution_count": 18,
   "metadata": {},
   "outputs": [
    {
     "name": "stderr",
     "output_type": "stream",
     "text": [
      "2025-03-07 20:48:08,253 - pyvisa - DEBUG - viWrite(5, b'WFMPRE?\\r\\n', 9, 'c_ulong(9)') -> 0\n",
      "2025-03-07 20:48:08,253 - pyvisa - DEBUG - viWrite(5, b'WFMPRE?\\r\\n', 9, 'c_ulong(9)') -> 0\n",
      "2025-03-07 20:48:08,255 - pyvisa - DEBUG - USB0::0x0699::0x036A::C100158::0::INSTR - reading 20480 bytes (last status <StatusCode.success_max_count_read: 1073676294>)\n",
      "2025-03-07 20:48:08,255 - pyvisa - DEBUG - USB0::0x0699::0x036A::C100158::0::INSTR - reading 20480 bytes (last status <StatusCode.success_max_count_read: 1073676294>)\n",
      "2025-03-07 20:48:09,185 - pyvisa - DEBUG - viRead(5, <ctypes.c_char_Array_20480 object at 0x00000143B2465EC0>, 20480, 'c_ulong(144)') -> 0\n",
      "2025-03-07 20:48:09,185 - pyvisa - DEBUG - viRead(5, <ctypes.c_char_Array_20480 object at 0x00000143B2465EC0>, 20480, 'c_ulong(144)') -> 0\n"
     ]
    },
    {
     "name": "stdout",
     "output_type": "stream",
     "text": [
      "Preamble: 1;8;BIN;RP;MSB;2500;\"Ch1, DC coupling, 5.0E-1 V/div, 5.0E-5 s/div, 2500 points, Sample mode\";Y;2.0E-7;0;-2.5E-4;\"s\";2.0E-2;0.0E0;1.78E2;\"Volts\"\n",
      "\n"
     ]
    }
   ],
   "source": [
    "\n",
    "# Get waveform preamble\n",
    "preamble = scope.query('WFMPRE?')\n",
    "print(f\"Preamble: {preamble}\")\n"
   ]
  },
  {
   "cell_type": "code",
   "execution_count": 19,
   "metadata": {},
   "outputs": [
    {
     "name": "stderr",
     "output_type": "stream",
     "text": [
      "2025-03-07 20:48:17,779 - pyvisa - DEBUG - viWrite(5, b'CURVE?\\r\\n', 8, 'c_ulong(8)') -> 0\n",
      "2025-03-07 20:48:17,779 - pyvisa - DEBUG - viWrite(5, b'CURVE?\\r\\n', 8, 'c_ulong(8)') -> 0\n",
      "2025-03-07 20:48:17,781 - pyvisa - DEBUG - USB0::0x0699::0x036A::C100158::0::INSTR - reading 20480 bytes (last status <StatusCode.success_max_count_read: 1073676294>)\n",
      "2025-03-07 20:48:17,781 - pyvisa - DEBUG - USB0::0x0699::0x036A::C100158::0::INSTR - reading 20480 bytes (last status <StatusCode.success_max_count_read: 1073676294>)\n",
      "2025-03-07 20:48:17,979 - pyvisa - DEBUG - viRead(5, <ctypes.c_char_Array_20480 object at 0x00000143B08D2840>, 20480, 'c_ulong(2507)') -> 0\n",
      "2025-03-07 20:48:17,979 - pyvisa - DEBUG - viRead(5, <ctypes.c_char_Array_20480 object at 0x00000143B08D2840>, 20480, 'c_ulong(2507)') -> 0\n"
     ]
    },
    {
     "ename": "UnicodeDecodeError",
     "evalue": "'ascii' codec can't decode byte 0xb1 in position 6: ordinal not in range(128)",
     "output_type": "error",
     "traceback": [
      "\u001b[1;31m---------------------------------------------------------------------------\u001b[0m",
      "\u001b[1;31mUnicodeDecodeError\u001b[0m                        Traceback (most recent call last)",
      "Cell \u001b[1;32mIn[19], line 3\u001b[0m\n\u001b[0;32m      1\u001b[0m \u001b[38;5;66;03m# Read waveform data\u001b[39;00m\n\u001b[0;32m      2\u001b[0m scope\u001b[38;5;241m.\u001b[39mwrite(\u001b[38;5;124m'\u001b[39m\u001b[38;5;124mCURVE?\u001b[39m\u001b[38;5;124m'\u001b[39m)\n\u001b[1;32m----> 3\u001b[0m waveform_data \u001b[38;5;241m=\u001b[39m \u001b[43mscope\u001b[49m\u001b[38;5;241;43m.\u001b[39;49m\u001b[43mread\u001b[49m\u001b[43m(\u001b[49m\u001b[43m)\u001b[49m\n",
      "File \u001b[1;32mc:\\Users\\tobif\\AppData\\Local\\Programs\\Python\\Python310\\lib\\site-packages\\pyvisa\\resources\\messagebased.py:485\u001b[0m, in \u001b[0;36mMessageBasedResource.read\u001b[1;34m(self, termination, encoding)\u001b[0m\n\u001b[0;32m    483\u001b[0m \u001b[38;5;28;01mif\u001b[39;00m termination \u001b[38;5;129;01mis\u001b[39;00m \u001b[38;5;28;01mNone\u001b[39;00m:\n\u001b[0;32m    484\u001b[0m     termination \u001b[38;5;241m=\u001b[39m \u001b[38;5;28mself\u001b[39m\u001b[38;5;241m.\u001b[39m_read_termination\n\u001b[1;32m--> 485\u001b[0m     message \u001b[38;5;241m=\u001b[39m \u001b[38;5;28;43mself\u001b[39;49m\u001b[38;5;241;43m.\u001b[39;49m\u001b[43m_read_raw\u001b[49m\u001b[43m(\u001b[49m\u001b[43m)\u001b[49m\u001b[38;5;241;43m.\u001b[39;49m\u001b[43mdecode\u001b[49m\u001b[43m(\u001b[49m\u001b[43menco\u001b[49m\u001b[43m)\u001b[49m\n\u001b[0;32m    486\u001b[0m \u001b[38;5;28;01melse\u001b[39;00m:\n\u001b[0;32m    487\u001b[0m     \u001b[38;5;28;01mwith\u001b[39;00m \u001b[38;5;28mself\u001b[39m\u001b[38;5;241m.\u001b[39mread_termination_context(termination):\n",
      "\u001b[1;31mUnicodeDecodeError\u001b[0m: 'ascii' codec can't decode byte 0xb1 in position 6: ordinal not in range(128)"
     ]
    }
   ],
   "source": [
    "\n",
    "# Read waveform data\n",
    "scope.write('CURVE?')\n",
    "waveform_data = scope.read()"
   ]
  },
  {
   "cell_type": "code",
   "execution_count": null,
   "metadata": {},
   "outputs": [
    {
     "name": "stderr",
     "output_type": "stream",
     "text": [
      "2025-03-07 20:46:52,996 - pyvisa - DEBUG - USB0::0x0699::0x036A::C100158::0::INSTR - closing\n",
      "2025-03-07 20:46:52,996 - pyvisa - DEBUG - USB0::0x0699::0x036A::C100158::0::INSTR - closing\n",
      "2025-03-07 20:46:52,998 - pyvisa - DEBUG - viDisableEvent(3, <EventType.all_enabled: 1073709055>, <EventMechanism.all: 65535>) -> 1073676291\n",
      "2025-03-07 20:46:52,998 - pyvisa - DEBUG - viDisableEvent(3, <EventType.all_enabled: 1073709055>, <EventMechanism.all: 65535>) -> 1073676291\n",
      "2025-03-07 20:46:52,999 - pyvisa - DEBUG - viDiscardEvents(3, <EventType.all_enabled: 1073709055>, <EventMechanism.all: 65535>) -> 1073676292\n",
      "2025-03-07 20:46:52,999 - pyvisa - DEBUG - viDiscardEvents(3, <EventType.all_enabled: 1073709055>, <EventMechanism.all: 65535>) -> 1073676292\n",
      "2025-03-07 20:46:53,001 - pyvisa - DEBUG - viClose(3,) -> 0\n",
      "2025-03-07 20:46:53,001 - pyvisa - DEBUG - viClose(3,) -> 0\n",
      "2025-03-07 20:46:53,002 - pyvisa - DEBUG - USB0::0x0699::0x036A::C100158::0::INSTR - is closed\n",
      "2025-03-07 20:46:53,002 - pyvisa - DEBUG - USB0::0x0699::0x036A::C100158::0::INSTR - is closed\n"
     ]
    },
    {
     "name": "stdout",
     "output_type": "stream",
     "text": [
      "Waveform data saved!\n"
     ]
    }
   ],
   "source": [
    "\n",
    "\n",
    "# Process and save data\n",
    "with open(\"waveform.bin\", \"wb\") as f:\n",
    "    f.write(waveform_data)\n",
    "\n",
    "print(\"Waveform data saved!\")\n"
   ]
  },
  {
   "cell_type": "code",
   "execution_count": null,
   "metadata": {},
   "outputs": [],
   "source": [
    "\n",
    "# Close connection\n",
    "scope.close()"
   ]
  },
  {
   "cell_type": "code",
   "execution_count": 22,
   "metadata": {},
   "outputs": [
    {
     "name": "stderr",
     "output_type": "stream",
     "text": [
      "2025-03-07 20:53:51,306 - pyvisa - DEBUG - No visa library specified, trying to find alternatives.\n",
      "2025-03-07 20:53:51,306 - pyvisa - DEBUG - No visa library specified, trying to find alternatives.\n",
      "2025-03-07 20:53:51,307 - pyvisa - DEBUG - Environment variable PYVISA_LIBRARY is unset.\n",
      "2025-03-07 20:53:51,307 - pyvisa - DEBUG - Environment variable PYVISA_LIBRARY is unset.\n",
      "2025-03-07 20:53:51,308 - pyvisa - DEBUG - No user defined configuration\n",
      "2025-03-07 20:53:51,308 - pyvisa - DEBUG - No user defined configuration\n",
      "2025-03-07 20:53:51,313 - pyvisa - DEBUG - Automatically found library files: [None, 'C:\\\\WINDOWS\\\\system32\\\\visa32.dll', 'C:\\\\WINDOWS\\\\system32\\\\visa32.dll', 'C:\\\\WINDOWS\\\\system32\\\\visa64.dll', 'C:\\\\WINDOWS\\\\system32\\\\visa64.dll']\n",
      "2025-03-07 20:53:51,313 - pyvisa - DEBUG - Automatically found library files: [None, 'C:\\\\WINDOWS\\\\system32\\\\visa32.dll', 'C:\\\\WINDOWS\\\\system32\\\\visa32.dll', 'C:\\\\WINDOWS\\\\system32\\\\visa64.dll', 'C:\\\\WINDOWS\\\\system32\\\\visa64.dll']\n",
      "2025-03-07 20:53:51,314 - pyvisa - DEBUG - No user defined library files\n",
      "2025-03-07 20:53:51,314 - pyvisa - DEBUG - No user defined library files\n",
      "2025-03-07 20:53:51,315 - pyvisa - DEBUG - The IVI implementation available\n",
      "2025-03-07 20:53:51,315 - pyvisa - DEBUG - The IVI implementation available\n",
      "2025-03-07 20:53:51,317 - pyvisa - DEBUG - No user defined configuration\n",
      "2025-03-07 20:53:51,317 - pyvisa - DEBUG - No user defined configuration\n",
      "2025-03-07 20:53:51,322 - pyvisa - DEBUG - Automatically found library files: [None, 'C:\\\\WINDOWS\\\\system32\\\\visa32.dll', 'C:\\\\WINDOWS\\\\system32\\\\visa32.dll', 'C:\\\\WINDOWS\\\\system32\\\\visa64.dll', 'C:\\\\WINDOWS\\\\system32\\\\visa64.dll']\n",
      "2025-03-07 20:53:51,322 - pyvisa - DEBUG - Automatically found library files: [None, 'C:\\\\WINDOWS\\\\system32\\\\visa32.dll', 'C:\\\\WINDOWS\\\\system32\\\\visa32.dll', 'C:\\\\WINDOWS\\\\system32\\\\visa64.dll', 'C:\\\\WINDOWS\\\\system32\\\\visa64.dll']\n",
      "2025-03-07 20:53:51,323 - pyvisa - DEBUG - No user defined library files\n",
      "2025-03-07 20:53:51,323 - pyvisa - DEBUG - No user defined library files\n",
      "2025-03-07 20:53:51,324 - pyvisa - DEBUG - Reusing ResourceManager with session 6\n",
      "2025-03-07 20:53:51,324 - pyvisa - DEBUG - Reusing ResourceManager with session 6\n",
      "2025-03-07 20:53:51,325 - pyvisa - DEBUG - viParseRsrcEx(6, 'USB0::0x0699::0x036A::C100158::INSTR', 'c_ushort(7)', 'c_ushort(0)', <ctypes.c_char_Array_256 object at 0x00000143CDE9AA40>, <ctypes.c_char_Array_256 object at 0x00000143CDE9AB40>, <ctypes.c_char_Array_256 object at 0x00000143CDE9A8C0>) -> 0\n",
      "2025-03-07 20:53:51,325 - pyvisa - DEBUG - viParseRsrcEx(6, 'USB0::0x0699::0x036A::C100158::INSTR', 'c_ushort(7)', 'c_ushort(0)', <ctypes.c_char_Array_256 object at 0x00000143CDE9AA40>, <ctypes.c_char_Array_256 object at 0x00000143CDE9AB40>, <ctypes.c_char_Array_256 object at 0x00000143CDE9A8C0>) -> 0\n",
      "2025-03-07 20:53:51,326 - pyvisa - DEBUG - USB0::0x0699::0x036A::C100158::0::INSTR - opening ...\n",
      "2025-03-07 20:53:51,326 - pyvisa - DEBUG - USB0::0x0699::0x036A::C100158::0::INSTR - opening ...\n",
      "2025-03-07 20:53:51,330 - pyvisa - DEBUG - viOpen(6, 'USB0::0x0699::0x036A::C100158::0::INSTR', <AccessModes.no_lock: 0>, 0, '<ViObject object at 0x00000143CDBA65C0>') -> 0\n",
      "2025-03-07 20:53:51,330 - pyvisa - DEBUG - viOpen(6, 'USB0::0x0699::0x036A::C100158::0::INSTR', <AccessModes.no_lock: 0>, 0, '<ViObject object at 0x00000143CDBA65C0>') -> 0\n",
      "2025-03-07 20:53:51,332 - pyvisa - DEBUG - USB0::0x0699::0x036A::C100158::0::INSTR - is open with session 9\n",
      "2025-03-07 20:53:51,332 - pyvisa - DEBUG - USB0::0x0699::0x036A::C100158::0::INSTR - is open with session 9\n",
      "2025-03-07 20:53:51,333 - pyvisa - DEBUG - USB0::0x0699::0x036A::C100158::0::INSTR - closing\n",
      "2025-03-07 20:53:51,333 - pyvisa - DEBUG - USB0::0x0699::0x036A::C100158::0::INSTR - closing\n",
      "2025-03-07 20:53:51,334 - pyvisa - DEBUG - viDisableEvent(8, <EventType.all_enabled: 1073709055>, <EventMechanism.all: 65535>) -> 1073676291\n",
      "2025-03-07 20:53:51,334 - pyvisa - DEBUG - viDisableEvent(8, <EventType.all_enabled: 1073709055>, <EventMechanism.all: 65535>) -> 1073676291\n",
      "2025-03-07 20:53:51,335 - pyvisa - DEBUG - viDiscardEvents(8, <EventType.all_enabled: 1073709055>, <EventMechanism.all: 65535>) -> 1073676292\n",
      "2025-03-07 20:53:51,335 - pyvisa - DEBUG - viDiscardEvents(8, <EventType.all_enabled: 1073709055>, <EventMechanism.all: 65535>) -> 1073676292\n",
      "2025-03-07 20:53:51,337 - pyvisa - DEBUG - viClose(8,) -> 0\n",
      "2025-03-07 20:53:51,337 - pyvisa - DEBUG - viClose(8,) -> 0\n",
      "2025-03-07 20:53:51,338 - pyvisa - DEBUG - USB0::0x0699::0x036A::C100158::0::INSTR - is closed\n",
      "2025-03-07 20:53:51,338 - pyvisa - DEBUG - USB0::0x0699::0x036A::C100158::0::INSTR - is closed\n",
      "2025-03-07 20:53:51,339 - pyvisa - DEBUG - viWrite(9, b'DATA:SOURCE CH1\\r\\n', 17, 'c_ulong(17)') -> 0\n",
      "2025-03-07 20:53:51,339 - pyvisa - DEBUG - viWrite(9, b'DATA:SOURCE CH1\\r\\n', 17, 'c_ulong(17)') -> 0\n",
      "2025-03-07 20:53:51,342 - pyvisa - DEBUG - viWrite(9, b'DATA:ENCdg SRIBINARY\\r\\n', 22, 'c_ulong(22)') -> 0\n",
      "2025-03-07 20:53:51,342 - pyvisa - DEBUG - viWrite(9, b'DATA:ENCdg SRIBINARY\\r\\n', 22, 'c_ulong(22)') -> 0\n",
      "2025-03-07 20:53:51,389 - pyvisa - DEBUG - viWrite(9, b'DATA:WIDTH 1\\r\\n', 14, 'c_ulong(14)') -> 0\n",
      "2025-03-07 20:53:51,389 - pyvisa - DEBUG - viWrite(9, b'DATA:WIDTH 1\\r\\n', 14, 'c_ulong(14)') -> 0\n",
      "2025-03-07 20:53:51,438 - pyvisa - DEBUG - viWrite(9, b'DATA:START 1\\r\\n', 14, 'c_ulong(14)') -> 0\n",
      "2025-03-07 20:53:51,438 - pyvisa - DEBUG - viWrite(9, b'DATA:START 1\\r\\n', 14, 'c_ulong(14)') -> 0\n",
      "2025-03-07 20:53:51,489 - pyvisa - DEBUG - viWrite(9, b'DATA:STOP 10000\\r\\n', 17, 'c_ulong(17)') -> 0\n",
      "2025-03-07 20:53:51,489 - pyvisa - DEBUG - viWrite(9, b'DATA:STOP 10000\\r\\n', 17, 'c_ulong(17)') -> 0\n",
      "2025-03-07 20:53:51,537 - pyvisa - DEBUG - viWrite(9, b'WFMPRE:YMULT?\\r\\n', 15, 'c_ulong(15)') -> 0\n",
      "2025-03-07 20:53:51,537 - pyvisa - DEBUG - viWrite(9, b'WFMPRE:YMULT?\\r\\n', 15, 'c_ulong(15)') -> 0\n",
      "2025-03-07 20:53:51,540 - pyvisa - DEBUG - USB0::0x0699::0x036A::C100158::0::INSTR - reading 20480 bytes (last status <StatusCode.success_max_count_read: 1073676294>)\n",
      "2025-03-07 20:53:51,540 - pyvisa - DEBUG - USB0::0x0699::0x036A::C100158::0::INSTR - reading 20480 bytes (last status <StatusCode.success_max_count_read: 1073676294>)\n",
      "2025-03-07 20:53:51,702 - pyvisa - DEBUG - viRead(9, <ctypes.c_char_Array_20480 object at 0x00000143CDBA65C0>, 20480, 'c_ulong(7)') -> 0\n",
      "2025-03-07 20:53:51,702 - pyvisa - DEBUG - viRead(9, <ctypes.c_char_Array_20480 object at 0x00000143CDBA65C0>, 20480, 'c_ulong(7)') -> 0\n",
      "2025-03-07 20:53:51,706 - pyvisa - DEBUG - viWrite(9, b'WFMPRE:YZERO?\\r\\n', 15, 'c_ulong(15)') -> 0\n",
      "2025-03-07 20:53:51,706 - pyvisa - DEBUG - viWrite(9, b'WFMPRE:YZERO?\\r\\n', 15, 'c_ulong(15)') -> 0\n",
      "2025-03-07 20:53:51,708 - pyvisa - DEBUG - USB0::0x0699::0x036A::C100158::0::INSTR - reading 20480 bytes (last status <StatusCode.success_max_count_read: 1073676294>)\n",
      "2025-03-07 20:53:51,708 - pyvisa - DEBUG - USB0::0x0699::0x036A::C100158::0::INSTR - reading 20480 bytes (last status <StatusCode.success_max_count_read: 1073676294>)\n",
      "2025-03-07 20:53:51,793 - pyvisa - DEBUG - viRead(9, <ctypes.c_char_Array_20480 object at 0x00000143CDBA65C0>, 20480, 'c_ulong(6)') -> 0\n",
      "2025-03-07 20:53:51,793 - pyvisa - DEBUG - viRead(9, <ctypes.c_char_Array_20480 object at 0x00000143CDBA65C0>, 20480, 'c_ulong(6)') -> 0\n",
      "2025-03-07 20:53:51,795 - pyvisa - DEBUG - viWrite(9, b'WFMPRE:YOFF?\\r\\n', 14, 'c_ulong(14)') -> 0\n",
      "2025-03-07 20:53:51,795 - pyvisa - DEBUG - viWrite(9, b'WFMPRE:YOFF?\\r\\n', 14, 'c_ulong(14)') -> 0\n",
      "2025-03-07 20:53:51,795 - pyvisa - DEBUG - USB0::0x0699::0x036A::C100158::0::INSTR - reading 20480 bytes (last status <StatusCode.success_max_count_read: 1073676294>)\n",
      "2025-03-07 20:53:51,795 - pyvisa - DEBUG - USB0::0x0699::0x036A::C100158::0::INSTR - reading 20480 bytes (last status <StatusCode.success_max_count_read: 1073676294>)\n",
      "2025-03-07 20:53:51,914 - pyvisa - DEBUG - viRead(9, <ctypes.c_char_Array_20480 object at 0x00000143CDBA65C0>, 20480, 'c_ulong(6)') -> 0\n",
      "2025-03-07 20:53:51,914 - pyvisa - DEBUG - viRead(9, <ctypes.c_char_Array_20480 object at 0x00000143CDBA65C0>, 20480, 'c_ulong(6)') -> 0\n",
      "2025-03-07 20:53:51,915 - pyvisa - DEBUG - viWrite(9, b'WFMPRE:XINCR?\\r\\n', 15, 'c_ulong(15)') -> 0\n",
      "2025-03-07 20:53:51,915 - pyvisa - DEBUG - viWrite(9, b'WFMPRE:XINCR?\\r\\n', 15, 'c_ulong(15)') -> 0\n",
      "2025-03-07 20:53:51,916 - pyvisa - DEBUG - USB0::0x0699::0x036A::C100158::0::INSTR - reading 20480 bytes (last status <StatusCode.success_max_count_read: 1073676294>)\n",
      "2025-03-07 20:53:51,916 - pyvisa - DEBUG - USB0::0x0699::0x036A::C100158::0::INSTR - reading 20480 bytes (last status <StatusCode.success_max_count_read: 1073676294>)\n",
      "2025-03-07 20:53:52,020 - pyvisa - DEBUG - viRead(9, <ctypes.c_char_Array_20480 object at 0x00000143CDBA65C0>, 20480, 'c_ulong(7)') -> 0\n",
      "2025-03-07 20:53:52,020 - pyvisa - DEBUG - viRead(9, <ctypes.c_char_Array_20480 object at 0x00000143CDBA65C0>, 20480, 'c_ulong(7)') -> 0\n",
      "2025-03-07 20:53:52,022 - pyvisa - DEBUG - viWrite(9, b'CURVE?\\r\\n', 8, 'c_ulong(8)') -> 0\n",
      "2025-03-07 20:53:52,022 - pyvisa - DEBUG - viWrite(9, b'CURVE?\\r\\n', 8, 'c_ulong(8)') -> 0\n",
      "2025-03-07 20:53:52,023 - pyvisa - DEBUG - USB0::0x0699::0x036A::C100158::0::INSTR - reading 20480 bytes (last status <StatusCode.success_max_count_read: 1073676294>)\n",
      "2025-03-07 20:53:52,023 - pyvisa - DEBUG - USB0::0x0699::0x036A::C100158::0::INSTR - reading 20480 bytes (last status <StatusCode.success_max_count_read: 1073676294>)\n",
      "2025-03-07 20:53:52,206 - pyvisa - DEBUG - viRead(9, <ctypes.c_char_Array_20480 object at 0x00000143CDBA65C0>, 20480, 'c_ulong(2507)') -> 0\n",
      "2025-03-07 20:53:52,206 - pyvisa - DEBUG - viRead(9, <ctypes.c_char_Array_20480 object at 0x00000143CDBA65C0>, 20480, 'c_ulong(2507)') -> 0\n"
     ]
    },
    {
     "data": {
      "image/png": "[encoded data removed]",
      "text/plain": [
       "<Figure size 1000x500 with 1 Axes>"
      ]
     },
     "metadata": {},
     "output_type": "display_data"
    }
   ],
   "source": [
    "import pyvisa\n",
    "import numpy as np\n",
    "import matplotlib.pyplot as plt\n",
    "\n",
    "# Connect to the oscilloscope\n",
    "rm = pyvisa.ResourceManager()\n",
    "scope = rm.open_resource(devices[0])  # Replace with your scope's VISA address\n",
    "\n",
    "# Configure scope for binary data transfer\n",
    "scope.write(\"DATA:SOURCE CH1\")       # Select Channel 1\n",
    "scope.write(\"DATA:ENCdg SRIBINARY\")  # Signed binary format\n",
    "scope.write(\"DATA:WIDTH 1\")          # 1-byte per data point\n",
    "scope.write(\"DATA:START 1\")          # Start at first point\n",
    "scope.write(\"DATA:STOP 10000\")       # Stop at 10,000 points\n",
    "\n",
    "# Get waveform preamble for scaling\n",
    "ymult = float(scope.query(\"WFMPRE:YMULT?\"))   # Vertical scale factor\n",
    "yzero = float(scope.query(\"WFMPRE:YZERO?\"))   # Vertical offset\n",
    "yoff = float(scope.query(\"WFMPRE:YOFF?\"))     # Vertical reference level\n",
    "xincr = float(scope.query(\"WFMPRE:XINCR?\"))   # Time step per sample\n",
    "\n",
    "# Read waveform data\n",
    "scope.write(\"CURVE?\")\n",
    "raw_data = scope.read_raw()  # Read binary response\n",
    "\n",
    "# Process binary data (remove header)\n",
    "header_len = 2 + int(chr(raw_data[1]))  # Example: #450000 (4-digit length header)\n",
    "binary_waveform = np.frombuffer(raw_data[header_len:], dtype=np.int8)  # Convert to numpy array\n",
    "\n",
    "# Convert to actual voltage values\n",
    "voltage_waveform = (binary_waveform - yoff) * ymult + yzero\n",
    "\n",
    "# Generate time axis\n",
    "time_axis = np.arange(0, len(voltage_waveform) * xincr, xincr)\n",
    "\n",
    "# Plot the waveform\n",
    "plt.figure(figsize=(10, 5))\n",
    "plt.plot(time_axis[:-1], voltage_waveform[:-1])\n",
    "plt.xlabel(\"Time (s)\")\n",
    "plt.ylabel(\"Voltage (V)\")\n",
    "plt.title(\"Tektronix Oscilloscope Waveform\")\n",
    "plt.grid()\n",
    "plt.show()\n"
   ]
  },
  {
   "cell_type": "code",
   "execution_count": null,
   "metadata": {},
   "outputs": [],
   "source": []
  }
 ],
 "metadata": {
  "kernelspec": {
   "display_name": "Python 3",
   "language": "python",
   "name": "python3"
  },
  "language_info": {
   "codemirror_mode": {
    "name": "ipython",
    "version": 3
   },
   "file_extension": ".py",
   "mimetype": "text/x-python",
   "name": "python",
   "nbconvert_exporter": "python",
   "pygments_lexer": "ipython3",
   "version": "3.10.11"
  }
 },
 "nbformat": 4,
 "nbformat_minor": 2
}
