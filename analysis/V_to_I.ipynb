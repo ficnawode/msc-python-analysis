{
 "cells": [
  {
   "cell_type": "code",
   "execution_count": 8,
   "metadata": {},
   "outputs": [],
   "source": [
    "import pandas as pd\n",
    "import numpy as np\n",
    "import matplotlib.pyplot as plt\n",
    "\n",
    "SAVE_PLOTS=True\n",
    "STANDARD_DPI=300"
   ]
  },
  {
   "cell_type": "code",
   "execution_count": 9,
   "metadata": {},
   "outputs": [
    {
     "data": {
      "text/html": [
       "<div>\n",
       "<style scoped>\n",
       "    .dataframe tbody tr th:only-of-type {\n",
       "        vertical-align: middle;\n",
       "    }\n",
       "\n",
       "    .dataframe tbody tr th {\n",
       "        vertical-align: top;\n",
       "    }\n",
       "\n",
       "    .dataframe thead th {\n",
       "        text-align: right;\n",
       "    }\n",
       "</style>\n",
       "<table border=\"1\" class=\"dataframe\">\n",
       "  <thead>\n",
       "    <tr style=\"text-align: right;\">\n",
       "      <th></th>\n",
       "      <th>time</th>\n",
       "      <th>pmt_high_voltage</th>\n",
       "      <th>pmt_current</th>\n",
       "      <th>v_p2p_ch1</th>\n",
       "      <th>v_rms_ch1</th>\n",
       "      <th>v_p2p_ch2</th>\n",
       "      <th>v_rms_ch2</th>\n",
       "    </tr>\n",
       "  </thead>\n",
       "  <tbody>\n",
       "    <tr>\n",
       "      <th>0</th>\n",
       "      <td>1.741440e+09</td>\n",
       "      <td>700.1</td>\n",
       "      <td>67.78</td>\n",
       "      <td>0.04</td>\n",
       "      <td>0.010568</td>\n",
       "      <td>0.0408</td>\n",
       "      <td>0.012731</td>\n",
       "    </tr>\n",
       "  </tbody>\n",
       "</table>\n",
       "</div>"
      ],
      "text/plain": [
       "           time  pmt_high_voltage  pmt_current  v_p2p_ch1  v_rms_ch1  \\\n",
       "0  1.741440e+09             700.1        67.78       0.04   0.010568   \n",
       "\n",
       "   v_p2p_ch2  v_rms_ch2  \n",
       "0     0.0408   0.012731  "
      ]
     },
     "execution_count": 9,
     "metadata": {},
     "output_type": "execute_result"
    }
   ],
   "source": [
    "noise_data = pd.read_csv('data\\dark_pmt\\I_V_noise_700_2285V.csv')\n",
    "noise_data.head(1)"
   ]
  },
  {
   "cell_type": "code",
   "execution_count": 10,
   "metadata": {},
   "outputs": [
    {
     "name": "stderr",
     "output_type": "stream",
     "text": [
      "C:\\Users\\tobif\\AppData\\Local\\Temp\\ipykernel_13412\\2330216340.py:11: UserWarning: set_ticklabels() should only be used with a fixed number of ticks, i.e. after set_ticks() or using a FixedLocator.\n",
      "  ax.set_xticklabels(ax.get_xticks()*1e6)\n"
     ]
    },
    {
     "data": {
      "image/png": "[encoded data removed]",
      "text/plain": [
       "<Figure size 500x500 with 1 Axes>"
      ]
     },
     "metadata": {},
     "output_type": "display_data"
    }
   ],
   "source": [
    "fig, ax = plt.subplots(figsize=(5, 5))\n",
    "V = noise_data['pmt_high_voltage']\n",
    "I = noise_data['pmt_current']/1e6  # Convert to amperes\n",
    "\n",
    "# fit a line to V and I, display the line as a dotted red line and show on screen the constants of the line, rounded to two decimal places in scientific notation in the bottom right corner of the plot. Keep in mind that the current is in microamperes and the line fit must be in amperes so that the slope is in ohms.\n",
    "m, b = np.polyfit(I, V, 1)\n",
    "ax.plot(I, m*I + b, color='red', linestyle='dotted')\n",
    "ax.text(0.95, 0.05, f'$V$ = {m:.2e} $\\Omega \\cdot I$ + {b:.2e} $V $', ha='right', va='bottom' , transform=ax.transAxes, color='black')\n",
    "\n",
    "# current is in amperes, rescale the x axis ticks to microamperes\n",
    "ax.set_xticklabels(ax.get_xticks()*1e6)\n",
    "\n",
    "ax.scatter(I, V, color='black', s=1)\n",
    "ax.set_xlabel(f'Current $(\\mu A)$')\n",
    "ax.set_ylabel('Voltage (V)')\n",
    "ax.set_title('Hamamatsu H8452')\n",
    "\n",
    "if SAVE_PLOTS:\n",
    "    plt.savefig('plots\\pmt_noise_tests\\pmt1\\I_V_characteristic_and_fit.jpg', dpi=STANDARD_DPI, bbox_inches='tight')\n",
    "\n",
    "plt.show()"
   ]
  },
  {
   "cell_type": "code",
   "execution_count": 11,
   "metadata": {},
   "outputs": [
    {
     "data": {
      "text/html": [
       "<div>\n",
       "<style scoped>\n",
       "    .dataframe tbody tr th:only-of-type {\n",
       "        vertical-align: middle;\n",
       "    }\n",
       "\n",
       "    .dataframe tbody tr th {\n",
       "        vertical-align: top;\n",
       "    }\n",
       "\n",
       "    .dataframe thead th {\n",
       "        text-align: right;\n",
       "    }\n",
       "</style>\n",
       "<table border=\"1\" class=\"dataframe\">\n",
       "  <thead>\n",
       "    <tr style=\"text-align: right;\">\n",
       "      <th></th>\n",
       "      <th>time</th>\n",
       "      <th>pmt_high_voltage</th>\n",
       "      <th>pmt_current</th>\n",
       "      <th>v_p2p_ch1</th>\n",
       "      <th>v_rms_ch1</th>\n",
       "      <th>v_p2p_ch2</th>\n",
       "      <th>v_rms_ch2</th>\n",
       "      <th>V_set</th>\n",
       "    </tr>\n",
       "  </thead>\n",
       "  <tbody>\n",
       "    <tr>\n",
       "      <th>0</th>\n",
       "      <td>1.741440e+09</td>\n",
       "      <td>700.1</td>\n",
       "      <td>67.780</td>\n",
       "      <td>0.0400</td>\n",
       "      <td>0.010568</td>\n",
       "      <td>0.0408</td>\n",
       "      <td>0.012731</td>\n",
       "      <td>700.0</td>\n",
       "    </tr>\n",
       "    <tr>\n",
       "      <th>1</th>\n",
       "      <td>1.741440e+09</td>\n",
       "      <td>705.1</td>\n",
       "      <td>68.495</td>\n",
       "      <td>0.0424</td>\n",
       "      <td>0.011586</td>\n",
       "      <td>0.0424</td>\n",
       "      <td>0.011411</td>\n",
       "      <td>705.0</td>\n",
       "    </tr>\n",
       "    <tr>\n",
       "      <th>2</th>\n",
       "      <td>1.741440e+09</td>\n",
       "      <td>710.1</td>\n",
       "      <td>69.305</td>\n",
       "      <td>0.0448</td>\n",
       "      <td>0.012768</td>\n",
       "      <td>0.0408</td>\n",
       "      <td>0.011308</td>\n",
       "      <td>710.0</td>\n",
       "    </tr>\n",
       "    <tr>\n",
       "      <th>3</th>\n",
       "      <td>1.741440e+09</td>\n",
       "      <td>715.1</td>\n",
       "      <td>70.055</td>\n",
       "      <td>0.0408</td>\n",
       "      <td>0.011300</td>\n",
       "      <td>0.0400</td>\n",
       "      <td>0.009989</td>\n",
       "      <td>715.0</td>\n",
       "    </tr>\n",
       "    <tr>\n",
       "      <th>4</th>\n",
       "      <td>1.741440e+09</td>\n",
       "      <td>719.8</td>\n",
       "      <td>70.820</td>\n",
       "      <td>0.0448</td>\n",
       "      <td>0.010078</td>\n",
       "      <td>0.0416</td>\n",
       "      <td>0.012973</td>\n",
       "      <td>720.0</td>\n",
       "    </tr>\n",
       "  </tbody>\n",
       "</table>\n",
       "</div>"
      ],
      "text/plain": [
       "           time  pmt_high_voltage  pmt_current  v_p2p_ch1  v_rms_ch1  \\\n",
       "0  1.741440e+09             700.1       67.780     0.0400   0.010568   \n",
       "1  1.741440e+09             705.1       68.495     0.0424   0.011586   \n",
       "2  1.741440e+09             710.1       69.305     0.0448   0.012768   \n",
       "3  1.741440e+09             715.1       70.055     0.0408   0.011300   \n",
       "4  1.741440e+09             719.8       70.820     0.0448   0.010078   \n",
       "\n",
       "   v_p2p_ch2  v_rms_ch2  V_set  \n",
       "0     0.0408   0.012731  700.0  \n",
       "1     0.0424   0.011411  705.0  \n",
       "2     0.0408   0.011308  710.0  \n",
       "3     0.0400   0.009989  715.0  \n",
       "4     0.0416   0.012973  720.0  "
      ]
     },
     "execution_count": 11,
     "metadata": {},
     "output_type": "execute_result"
    }
   ],
   "source": [
    "\n",
    "noise_data['V_set'] = noise_data['pmt_high_voltage'].round()\n",
    "noise_data.head() "
   ]
  },
  {
   "cell_type": "markdown",
   "metadata": {},
   "source": [
    "# Characteristics of power supply"
   ]
  },
  {
   "cell_type": "code",
   "execution_count": null,
   "metadata": {},
   "outputs": [
    {
     "data": {
      "text/plain": [
       "<matplotlib.collections.PathCollection at 0x1da84173490>"
      ]
     },
     "execution_count": 17,
     "metadata": {},
     "output_type": "execute_result"
    },
    {
     "data": {
      "image/png": "[encoded data removed]",
      "text/plain": [
       "<Figure size 500x500 with 1 Axes>"
      ]
     },
     "metadata": {},
     "output_type": "display_data"
    }
   ],
   "source": [
    "v_delta = noise_data['V_set'] - noise_data['pmt_high_voltage']\n",
    "fig, ax= plt.subplots(figsize=(5,5))\n",
    "ax.scatter(noise_data['V_set'], v_delta, s=1)"
   ]
  },
  {
   "cell_type": "code",
   "execution_count": null,
   "metadata": {},
   "outputs": [],
   "source": []
  }
 ],
 "metadata": {
  "kernelspec": {
   "display_name": "Python 3",
   "language": "python",
   "name": "python3"
  },
  "language_info": {
   "codemirror_mode": {
    "name": "ipython",
    "version": 3
   },
   "file_extension": ".py",
   "mimetype": "text/x-python",
   "name": "python",
   "nbconvert_exporter": "python",
   "pygments_lexer": "ipython3",
   "version": "3.10.11"
  }
 },
 "nbformat": 4,
 "nbformat_minor": 2
}
