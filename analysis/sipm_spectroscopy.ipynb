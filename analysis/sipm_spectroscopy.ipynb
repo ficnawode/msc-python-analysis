{
 "cells": [
  {
   "cell_type": "code",
   "execution_count": 65,
   "metadata": {},
   "outputs": [],
   "source": [
    "import numpy as np\n",
    "import pandas as pd\n",
    "import matplotlib.pyplot as plt\n",
    "from datetime import datetime\n",
    "\n",
    "import h5py\n",
    "\n",
    "SAVE_PLOTS = False"
   ]
  },
  {
   "cell_type": "markdown",
   "metadata": {},
   "source": [
    "# Setup Parameters\n",
    "\n",
    "Hamamatsu S13360-6025 SiPM\n",
    "\n",
    "Voltage: $55.5 V$, Current: $\n",
    "\\approx 0.06 \\mu A$\n",
    "\n",
    "Trigger height: $2.32mV$, div $20mV$/$10 \\mu s$\n"
   ]
  },
  {
   "cell_type": "markdown",
   "metadata": {},
   "source": []
  },
  {
   "cell_type": "code",
   "execution_count": 66,
   "metadata": {},
   "outputs": [
    {
     "data": {
      "text/html": [
       "<div>\n",
       "<style scoped>\n",
       "    .dataframe tbody tr th:only-of-type {\n",
       "        vertical-align: middle;\n",
       "    }\n",
       "\n",
       "    .dataframe tbody tr th {\n",
       "        vertical-align: top;\n",
       "    }\n",
       "\n",
       "    .dataframe thead th {\n",
       "        text-align: right;\n",
       "    }\n",
       "</style>\n",
       "<table border=\"1\" class=\"dataframe\">\n",
       "  <thead>\n",
       "    <tr style=\"text-align: right;\">\n",
       "      <th></th>\n",
       "      <th>Unnamed: 0</th>\n",
       "      <th>t</th>\n",
       "      <th>V</th>\n",
       "    </tr>\n",
       "  </thead>\n",
       "  <tbody>\n",
       "    <tr>\n",
       "      <th>0</th>\n",
       "      <td>0</td>\n",
       "      <td>1.742220e+09</td>\n",
       "      <td>0.0268</td>\n",
       "    </tr>\n",
       "  </tbody>\n",
       "</table>\n",
       "</div>"
      ],
      "text/plain": [
       "   Unnamed: 0             t       V\n",
       "0           0  1.742220e+09  0.0268"
      ]
     },
     "execution_count": 66,
     "metadata": {},
     "output_type": "execute_result"
    }
   ],
   "source": [
    "def get_default_filename():\n",
    "    # get the newest file of the kind: analysis\\data\\sipm_spectroscopy\\vp2ps_20250316-171204.csv\n",
    "    import os\n",
    "    import glob\n",
    "    import re\n",
    "    path = r'data\\sipm_spectroscopy'\n",
    "    files = glob.glob(path + '\\*.csv')\n",
    "    files.sort(key=os.path.getmtime)\n",
    "    return files[-1]\n",
    "\n",
    "\n",
    "vp2p_path = get_default_filename()\n",
    "# vp2p_path = r'data\\sipm_spectroscopy\\vp2ps_20250317-120503_co60_1h.csv'\n",
    "df = pd.read_csv(vp2p_path)\n",
    "df.head(1)"
   ]
  },
  {
   "cell_type": "code",
   "execution_count": 67,
   "metadata": {},
   "outputs": [],
   "source": [
    "\n",
    "df['mV'] = df['V']*1000\n",
    "mV_low_cut = 10\n",
    "mV_high_cut = 50\n",
    "df = df.loc[(df['mV'] > mV_low_cut) & (df['mV'] < mV_high_cut)].dropna()\n",
    "\n",
    "df['t'] = [datetime.fromtimestamp(t) for t in df['t']]\n",
    "df['t'] = pd.to_datetime(df['t'])\n",
    "df = df.sort_values(by='t')"
   ]
  },
  {
   "cell_type": "code",
   "execution_count": 68,
   "metadata": {},
   "outputs": [
    {
     "name": "stdout",
     "output_type": "stream",
     "text": [
      "Number of data points: 6592\n",
      "Start time: 2025-03-17 15:02:21.975551\n",
      "End time: 2025-03-17 16:05:35.830330\n",
      "Average number of data points per minute: 104.28\n",
      "Average number of data points per hour: 6256.58\n",
      "Total time of measurement: 1 hours and 3 minutes\n"
     ]
    }
   ],
   "source": [
    "def print_stats():\n",
    "    time_diff = (df['t'].iloc[-1] - df['t'].iloc[0]).seconds / 60\n",
    "    avg_data_points_per_minute = df.shape[0] / time_diff\n",
    "\n",
    "    print(f'Number of data points: {df.shape[0]}')\n",
    "    print(f'Start time: {df[\"t\"].iloc[0]}')\n",
    "    print(f'End time: {df[\"t\"].iloc[-1]}')\n",
    "    print(f'Average number of data points per minute: {avg_data_points_per_minute:.2f}')\n",
    "    print(f'Average number of data points per hour: {avg_data_points_per_minute * 60:.2f}')\n",
    "    print(f'Total time of measurement: {time_diff // 60:.0f} hours and {time_diff % 60:.0f} minutes')\n",
    "print_stats()"
   ]
  },
  {
   "cell_type": "code",
   "execution_count": null,
   "metadata": {},
   "outputs": [
    {
     "name": "stdout",
     "output_type": "stream",
     "text": [
      "Number of bins: 68\n",
      "[10.         10.60588235 11.21176471 11.81764706 12.42352941 13.02941176\n",
      " 13.63529412 14.24117647 14.84705882 15.45294118 16.05882353 16.66470588\n",
      " 17.27058824 17.87647059 18.48235294 19.08823529 19.69411765 20.3\n",
      " 20.90588235 21.51176471 22.11764706 22.72352941 23.32941176 23.93529412\n",
      " 24.54117647 25.14705882 25.75294118 26.35882353 26.96470588 27.57058824\n",
      " 28.17647059 28.78235294 29.38823529 29.99411765 30.6        31.20588235\n",
      " 31.81176471 32.41764706 33.02352941 33.62941176 34.23529412 34.84117647\n",
      " 35.44705882 36.05294118 36.65882353 37.26470588 37.87058824 38.47647059\n",
      " 39.08235294 39.68823529 40.29411765 40.9        41.50588235 42.11176471\n",
      " 42.71764706 43.32352941 43.92941176 44.53529412 45.14117647 45.74705882\n",
      " 46.35294118 46.95882353 47.56470588 48.17058824 48.77647059 49.38235294\n",
      " 49.98823529 50.59411765 51.2       ]\n"
     ]
    },
    {
     "data": {
      "image/png": "[encoded data removed]",
      "text/plain": [
       "<Figure size 1000x600 with 1 Axes>"
      ]
     },
     "metadata": {},
     "output_type": "display_data"
    }
   ],
   "source": [
    "\n",
    "fig, ax = plt.subplots(1,1, figsize=(5,3), dpi=200)\n",
    "\n",
    "step = 0.6\n",
    "hist_min = mV_low_cut\n",
    "hist_max = mV_high_cut\n",
    "bins = np.arange(hist_min, hist_max + step, step)\n",
    "\n",
    "print(f'Number of bins: {bins.length()}')\n",
    "count, bins, _ = ax.hist(df['mV'], bins=n_bins, color='black', histtype='step', linewidth=0.2, range=(hist_min, hist_max))\n",
    "print(bins)\n",
    "\n",
    "# rescale the x axis by 1000 to convert from V to mV\n",
    "# ax.set_xticks(ax.get_xticks()*1000)\n",
    "ax.set_xlabel('Voltage (mV)')\n",
    "ax.set_ylabel('counts')\n",
    "plt.tight_layout()\n",
    "\n",
    "\n",
    "# display the number of entries in the upper right corner of the plot\n",
    "n_entries = df.shape[0]\n",
    "ax.text(0.95, 0.95, f'N = {n_entries}', horizontalalignment='right', verticalalignment='top', transform=ax.transAxes, fontsize=8)\n",
    "\n",
    "ax.set_xlabel('Voltage (mV)')\n",
    "ax.set_ylabel('counts')\n",
    "plt.tight_layout()\n",
    "if SAVE_PLOTS:\n",
    "    save_dir = f'plots/sipm_spectroscopy/preliminary/threshhold_4pt4mV'\n",
    "    ax.set_yscale('log')\n",
    "    plt.savefig(f'{save_dir}/spectrum_Co60_10mins_log.png', dpi=200)\n",
    "    ax.set_yscale('linear')\n",
    "    plt.savefig(f'{save_dir}/spectrum_Co60_10mins.png', dpi=200)\n",
    "\n",
    "plt.show()"
   ]
  },
  {
   "cell_type": "code",
   "execution_count": null,
   "metadata": {},
   "outputs": [],
   "source": []
  },
  {
   "cell_type": "markdown",
   "metadata": {},
   "source": []
  },
  {
   "cell_type": "code",
   "execution_count": null,
   "metadata": {},
   "outputs": [],
   "source": []
  }
 ],
 "metadata": {
  "kernelspec": {
   "display_name": "Python 3",
   "language": "python",
   "name": "python3"
  },
  "language_info": {
   "codemirror_mode": {
    "name": "ipython",
    "version": 3
   },
   "file_extension": ".py",
   "mimetype": "text/x-python",
   "name": "python",
   "nbconvert_exporter": "python",
   "pygments_lexer": "ipython3",
   "version": "3.10.11"
  }
 },
 "nbformat": 4,
 "nbformat_minor": 2
}
