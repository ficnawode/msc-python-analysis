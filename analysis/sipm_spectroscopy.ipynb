{
 "cells": [
  {
   "cell_type": "code",
   "execution_count": 19689,
   "metadata": {},
   "outputs": [],
   "source": [
    "import numpy as np\n",
    "import pandas as pd\n",
    "import matplotlib.pyplot as plt\n",
    "from datetime import datetime\n",
    "\n",
    "import h5py\n",
    "\n",
    "SAVE_PLOTS = False"
   ]
  },
  {
   "cell_type": "markdown",
   "metadata": {},
   "source": [
    "# Setup Parameters\n",
    "\n",
    "Hamamatsu S13360-6025 SiPM\n",
    "\n",
    "Voltage: $55.5 V$, Current: $\n",
    "\\approx 0.06 \\mu A$\n",
    "\n",
    "Trigger height: $2.32mV$, div $20mV$/$10 \\mu s$\n"
   ]
  },
  {
   "cell_type": "code",
   "execution_count": null,
   "metadata": {},
   "outputs": [
    {
     "data": {
      "text/html": [
       "<div>\n",
       "<style scoped>\n",
       "    .dataframe tbody tr th:only-of-type {\n",
       "        vertical-align: middle;\n",
       "    }\n",
       "\n",
       "    .dataframe tbody tr th {\n",
       "        vertical-align: top;\n",
       "    }\n",
       "\n",
       "    .dataframe thead th {\n",
       "        text-align: right;\n",
       "    }\n",
       "</style>\n",
       "<table border=\"1\" class=\"dataframe\">\n",
       "  <thead>\n",
       "    <tr style=\"text-align: right;\">\n",
       "      <th></th>\n",
       "      <th>Unnamed: 0</th>\n",
       "      <th>t</th>\n",
       "      <th>V</th>\n",
       "    </tr>\n",
       "  </thead>\n",
       "  <tbody>\n",
       "    <tr>\n",
       "      <th>0</th>\n",
       "      <td>0</td>\n",
       "      <td>1.741967e+09</td>\n",
       "      <td>0.0118</td>\n",
       "    </tr>\n",
       "  </tbody>\n",
       "</table>\n",
       "</div>"
      ],
      "text/plain": [
       "   Unnamed: 0             t       V\n",
       "0           0  1.741967e+09  0.0118"
      ]
     },
     "execution_count": 19690,
     "metadata": {},
     "output_type": "execute_result"
    }
   ],
   "source": [
    "vp2p_path = r'data\\sipm_spectroscopy\\vp2ps_20250314-163145_Cs137_preliminary_10mins.csv'\n",
    "df = pd.read_csv(vp2p_path)\n",
    "df.head(1)"
   ]
  },
  {
   "cell_type": "code",
   "execution_count": 19691,
   "metadata": {},
   "outputs": [],
   "source": [
    "\n",
    "df['mV'] = df['V']*1000\n",
    "mV_low_cut = 1\n",
    "mV_high_cut = 40\n",
    "df = df.loc[(df['mV'] > mV_low_cut) & (df['mV'] < mV_high_cut)].dropna()\n",
    "\n",
    "df['t'] = [datetime.fromtimestamp(t) for t in df['t']]\n",
    "df['t'] = pd.to_datetime(df['t'])\n",
    "df = df.sort_values(by='t')"
   ]
  },
  {
   "cell_type": "code",
   "execution_count": 19692,
   "metadata": {},
   "outputs": [
    {
     "name": "stdout",
     "output_type": "stream",
     "text": [
      "Number of data points: 711\n",
      "Start time: 2025-03-14 16:42:23.302420\n",
      "End time: 2025-03-14 16:52:10.729120\n",
      "Average number of data points per minute: 72.67\n",
      "Average number of data points per hour: 4360.48\n",
      "Total time of measurement: 0 hours and 10 minutes\n"
     ]
    }
   ],
   "source": [
    "def print_stats():\n",
    "    time_diff = (df['t'].iloc[-1] - df['t'].iloc[0]).seconds / 60\n",
    "    avg_data_points_per_minute = df.shape[0] / time_diff\n",
    "\n",
    "    print(f'Number of data points: {df.shape[0]}')\n",
    "    print(f'Start time: {df[\"t\"].iloc[0]}')\n",
    "    print(f'End time: {df[\"t\"].iloc[-1]}')\n",
    "    print(f'Average number of data points per minute: {avg_data_points_per_minute:.2f}')\n",
    "    print(f'Average number of data points per hour: {avg_data_points_per_minute * 60:.2f}')\n",
    "    print(f'Total time of measurement: {time_diff // 60:.0f} hours and {time_diff % 60:.0f} minutes')\n",
    "print_stats()"
   ]
  },
  {
   "cell_type": "code",
   "execution_count": 19693,
   "metadata": {},
   "outputs": [
    {
     "data": {
      "image/png": "[encoded data removed]",
      "text/plain": [
       "<Figure size 1000x600 with 1 Axes>"
      ]
     },
     "metadata": {},
     "output_type": "display_data"
    }
   ],
   "source": [
    "\n",
    "fig, ax = plt.subplots(1,1, figsize=(5,3), dpi=200)\n",
    "ax.hist(df['mV'], bins=50, color='black', histtype='step', linewidth=1)\n",
    "# rescale the x axis by 1000 to convert from V to mV\n",
    "# ax.set_xticks(ax.get_xticks()*1000)\n",
    "ax.set_xlabel('Voltage (mV)')\n",
    "ax.set_ylabel('counts')\n",
    "plt.tight_layout()\n",
    "\n",
    "\n",
    "# display the number of entries in the upper right corner of the plot\n",
    "n_entries = df.shape[0]\n",
    "ax.text(0.95, 0.95, f'N = {n_entries}', horizontalalignment='right', verticalalignment='top', transform=ax.transAxes, fontsize=8)\n",
    "\n",
    "ax.set_xlabel('Voltage (mV)')\n",
    "ax.set_ylabel('counts')\n",
    "plt.tight_layout()\n",
    "if SAVE_PLOTS:\n",
    "    save_dir = f'plots/sipm_spectroscopy/preliminary/threshhold_4pt4mV'\n",
    "    ax.set_yscale('log')\n",
    "    plt.savefig(f'{save_dir}/spectrum_Co60_10mins_log.png', dpi=200)\n",
    "    ax.set_yscale('linear')\n",
    "    plt.savefig(f'{save_dir}/spectrum_Co60_10mins.png', dpi=200)\n",
    "\n",
    "plt.show()"
   ]
  },
  {
   "cell_type": "code",
   "execution_count": null,
   "metadata": {},
   "outputs": [],
   "source": []
  },
  {
   "cell_type": "code",
   "execution_count": null,
   "metadata": {},
   "outputs": [],
   "source": []
  }
 ],
 "metadata": {
  "kernelspec": {
   "display_name": "Python 3",
   "language": "python",
   "name": "python3"
  },
  "language_info": {
   "codemirror_mode": {
    "name": "ipython",
    "version": 3
   },
   "file_extension": ".py",
   "mimetype": "text/x-python",
   "name": "python",
   "nbconvert_exporter": "python",
   "pygments_lexer": "ipython3",
   "version": "3.10.11"
  }
 },
 "nbformat": 4,
 "nbformat_minor": 2
}
