{
 "cells": [
  {
   "cell_type": "code",
   "execution_count": 1883,
   "metadata": {},
   "outputs": [],
   "source": [
    "import numpy as np\n",
    "import pandas as pd\n",
    "import matplotlib.pyplot as plt\n",
    "from datetime import datetime\n",
    "\n",
    "import h5py\n",
    "\n",
    "SAVE_PLOTS = False"
   ]
  },
  {
   "cell_type": "markdown",
   "metadata": {},
   "source": [
    "# Setup Parameters\n",
    "\n",
    "Hamamatsu S13360-6025 SiPM\n",
    "\n",
    "Voltage: $55.5 V$, Current: $\n",
    "\\approx 0.06 \\mu A$\n",
    "\n",
    "Trigger height: $2.32mV$, div $20mV$/$10 \\mu s$\n"
   ]
  },
  {
   "cell_type": "markdown",
   "metadata": {},
   "source": []
  },
  {
   "cell_type": "code",
   "execution_count": null,
   "metadata": {},
   "outputs": [
    {
     "data": {
      "text/html": [
       "<div>\n",
       "<style scoped>\n",
       "    .dataframe tbody tr th:only-of-type {\n",
       "        vertical-align: middle;\n",
       "    }\n",
       "\n",
       "    .dataframe tbody tr th {\n",
       "        vertical-align: top;\n",
       "    }\n",
       "\n",
       "    .dataframe thead th {\n",
       "        text-align: right;\n",
       "    }\n",
       "</style>\n",
       "<table border=\"1\" class=\"dataframe\">\n",
       "  <thead>\n",
       "    <tr style=\"text-align: right;\">\n",
       "      <th></th>\n",
       "      <th>Unnamed: 0</th>\n",
       "      <th>t</th>\n",
       "      <th>V</th>\n",
       "    </tr>\n",
       "  </thead>\n",
       "  <tbody>\n",
       "    <tr>\n",
       "      <th>0</th>\n",
       "      <td>0</td>\n",
       "      <td>1.742491e+09</td>\n",
       "      <td>0.424</td>\n",
       "    </tr>\n",
       "  </tbody>\n",
       "</table>\n",
       "</div>"
      ],
      "text/plain": [
       "   Unnamed: 0             t      V\n",
       "0           0  1.742491e+09  0.424"
      ]
     },
     "execution_count": 1884,
     "metadata": {},
     "output_type": "execute_result"
    }
   ],
   "source": [
    "def get_default_filename():\n",
    "    # get the newest file of the kind: analysis\\data\\sipm_spectroscopy\\vp2ps_20250316-171204.csv\n",
    "    import os\n",
    "    import glob\n",
    "    import re\n",
    "    path = r'data\\pmt_spectroscopy'\n",
    "    files = glob.glob(path + '\\*.csv')\n",
    "    files.sort(key=os.path.getmtime)\n",
    "    return files[-1]\n",
    "\n",
    "\n",
    "vp2p_path = get_default_filename()\n",
    "# vp2p_path = r'data\\pmt_spectroscopy\\vp2ps_20250320-171041.csv'\n",
    "df = pd.read_csv(vp2p_path)\n",
    "df.head(1)"
   ]
  },
  {
   "cell_type": "code",
   "execution_count": 1885,
   "metadata": {},
   "outputs": [
    {
     "data": {
      "text/html": [
       "<div>\n",
       "<style scoped>\n",
       "    .dataframe tbody tr th:only-of-type {\n",
       "        vertical-align: middle;\n",
       "    }\n",
       "\n",
       "    .dataframe tbody tr th {\n",
       "        vertical-align: top;\n",
       "    }\n",
       "\n",
       "    .dataframe thead th {\n",
       "        text-align: right;\n",
       "    }\n",
       "</style>\n",
       "<table border=\"1\" class=\"dataframe\">\n",
       "  <thead>\n",
       "    <tr style=\"text-align: right;\">\n",
       "      <th></th>\n",
       "      <th>Unnamed: 0</th>\n",
       "      <th>t</th>\n",
       "      <th>V</th>\n",
       "      <th>mV</th>\n",
       "    </tr>\n",
       "  </thead>\n",
       "  <tbody>\n",
       "    <tr>\n",
       "      <th>count</th>\n",
       "      <td>81.000000</td>\n",
       "      <td>81</td>\n",
       "      <td>81.000000</td>\n",
       "      <td>81.000000</td>\n",
       "    </tr>\n",
       "    <tr>\n",
       "      <th>mean</th>\n",
       "      <td>40.530864</td>\n",
       "      <td>2025-03-20 18:13:41.810539776</td>\n",
       "      <td>0.396148</td>\n",
       "      <td>396.148148</td>\n",
       "    </tr>\n",
       "    <tr>\n",
       "      <th>min</th>\n",
       "      <td>0.000000</td>\n",
       "      <td>2025-03-20 18:13:14.284415</td>\n",
       "      <td>0.208000</td>\n",
       "      <td>208.000000</td>\n",
       "    </tr>\n",
       "    <tr>\n",
       "      <th>25%</th>\n",
       "      <td>20.000000</td>\n",
       "      <td>2025-03-20 18:13:28.589176064</td>\n",
       "      <td>0.288000</td>\n",
       "      <td>288.000000</td>\n",
       "    </tr>\n",
       "    <tr>\n",
       "      <th>50%</th>\n",
       "      <td>41.000000</td>\n",
       "      <td>2025-03-20 18:13:41.700243968</td>\n",
       "      <td>0.352000</td>\n",
       "      <td>352.000000</td>\n",
       "    </tr>\n",
       "    <tr>\n",
       "      <th>75%</th>\n",
       "      <td>61.000000</td>\n",
       "      <td>2025-03-20 18:13:55.375688960</td>\n",
       "      <td>0.520000</td>\n",
       "      <td>520.000000</td>\n",
       "    </tr>\n",
       "    <tr>\n",
       "      <th>max</th>\n",
       "      <td>81.000000</td>\n",
       "      <td>2025-03-20 18:14:09.117932</td>\n",
       "      <td>0.776000</td>\n",
       "      <td>776.000000</td>\n",
       "    </tr>\n",
       "    <tr>\n",
       "      <th>std</th>\n",
       "      <td>23.961994</td>\n",
       "      <td>NaN</td>\n",
       "      <td>0.142622</td>\n",
       "      <td>142.621800</td>\n",
       "    </tr>\n",
       "  </tbody>\n",
       "</table>\n",
       "</div>"
      ],
      "text/plain": [
       "       Unnamed: 0                              t          V          mV\n",
       "count   81.000000                             81  81.000000   81.000000\n",
       "mean    40.530864  2025-03-20 18:13:41.810539776   0.396148  396.148148\n",
       "min      0.000000     2025-03-20 18:13:14.284415   0.208000  208.000000\n",
       "25%     20.000000  2025-03-20 18:13:28.589176064   0.288000  288.000000\n",
       "50%     41.000000  2025-03-20 18:13:41.700243968   0.352000  352.000000\n",
       "75%     61.000000  2025-03-20 18:13:55.375688960   0.520000  520.000000\n",
       "max     81.000000     2025-03-20 18:14:09.117932   0.776000  776.000000\n",
       "std     23.961994                            NaN   0.142622  142.621800"
      ]
     },
     "execution_count": 1885,
     "metadata": {},
     "output_type": "execute_result"
    }
   ],
   "source": [
    "\n",
    "df['mV'] = df['V']*1000\n",
    "df['mV'] = df['mV'].round()\n",
    "mV_low_cut = 80 # trigger level\n",
    "mV_high_cut = 1000\n",
    "df = df.loc[(df['mV'] > mV_low_cut) & (df['mV'] < mV_high_cut)].dropna()\n",
    "\n",
    "df['t'] = [datetime.fromtimestamp(t) for t in df['t']]\n",
    "df['t'] = pd.to_datetime(df['t'])\n",
    "df = df.sort_values(by='t')\n",
    "df.head(5)\n",
    "df.describe()"
   ]
  },
  {
   "cell_type": "code",
   "execution_count": 1886,
   "metadata": {},
   "outputs": [
    {
     "name": "stdout",
     "output_type": "stream",
     "text": [
      "Number of data points: 81\n",
      "Start time: 2025-03-20 18:13:14.284415\n",
      "End time: 2025-03-20 18:14:09.117932\n",
      "Average number of data points per minute: 90.00\n",
      "Average number of data points per hour: 5400.00\n",
      "Total time of measurement: 0 hours and 1 minutes\n"
     ]
    }
   ],
   "source": [
    "def print_stats():\n",
    "    time_diff = (df['t'].iloc[-1] - df['t'].iloc[0]).seconds / 60\n",
    "    avg_data_points_per_minute = df.shape[0] / time_diff\n",
    "\n",
    "    print(f'Number of data points: {df.shape[0]}')\n",
    "    print(f'Start time: {df[\"t\"].iloc[0]}')\n",
    "    print(f'End time: {df[\"t\"].iloc[-1]}')\n",
    "    print(f'Average number of data points per minute: {avg_data_points_per_minute:.2f}')\n",
    "    print(f'Average number of data points per hour: {avg_data_points_per_minute * 60:.2f}')\n",
    "    print(f'Total time of measurement: {time_diff // 60:.0f} hours and {time_diff % 60:.0f} minutes')\n",
    "print_stats()"
   ]
  },
  {
   "cell_type": "code",
   "execution_count": 1887,
   "metadata": {},
   "outputs": [
    {
     "name": "stdout",
     "output_type": "stream",
     "text": [
      "Number of bins: 232\n",
      "[  78.   82.   86.   90.   94.   98.  102.  106.  110.  114.  118.  122.\n",
      "  126.  130.  134.  138.  142.  146.  150.  154.  158.  162.  166.  170.\n",
      "  174.  178.  182.  186.  190.  194.  198.  202.  206.  210.  214.  218.\n",
      "  222.  226.  230.  234.  238.  242.  246.  250.  254.  258.  262.  266.\n",
      "  270.  274.  278.  282.  286.  290.  294.  298.  302.  306.  310.  314.\n",
      "  318.  322.  326.  330.  334.  338.  342.  346.  350.  354.  358.  362.\n",
      "  366.  370.  374.  378.  382.  386.  390.  394.  398.  402.  406.  410.\n",
      "  414.  418.  422.  426.  430.  434.  438.  442.  446.  450.  454.  458.\n",
      "  462.  466.  470.  474.  478.  482.  486.  490.  494.  498.  502.  506.\n",
      "  510.  514.  518.  522.  526.  530.  534.  538.  542.  546.  550.  554.\n",
      "  558.  562.  566.  570.  574.  578.  582.  586.  590.  594.  598.  602.\n",
      "  606.  610.  614.  618.  622.  626.  630.  634.  638.  642.  646.  650.\n",
      "  654.  658.  662.  666.  670.  674.  678.  682.  686.  690.  694.  698.\n",
      "  702.  706.  710.  714.  718.  722.  726.  730.  734.  738.  742.  746.\n",
      "  750.  754.  758.  762.  766.  770.  774.  778.  782.  786.  790.  794.\n",
      "  798.  802.  806.  810.  814.  818.  822.  826.  830.  834.  838.  842.\n",
      "  846.  850.  854.  858.  862.  866.  870.  874.  878.  882.  886.  890.\n",
      "  894.  898.  902.  906.  910.  914.  918.  922.  926.  930.  934.  938.\n",
      "  942.  946.  950.  954.  958.  962.  966.  970.  974.  978.  982.  986.\n",
      "  990.  994.  998. 1002.]\n"
     ]
    },
    {
     "data": {
      "image/png": "[encoded data removed]",
      "text/plain": [
       "<Figure size 1000x600 with 1 Axes>"
      ]
     },
     "metadata": {},
     "output_type": "display_data"
    }
   ],
   "source": [
    "\n",
    "fig, ax = plt.subplots(1,1, figsize=(5,3), dpi=200)\n",
    "\n",
    "step = 4\n",
    "hist_min = mV_low_cut\n",
    "hist_max = mV_high_cut\n",
    "bins = np.arange(hist_min - step/2, hist_max + step, step)\n",
    "\n",
    "print(f'Number of bins: {len(bins)}')\n",
    "count, bins, _ = ax.hist(df['mV'], bins=bins, color='black', histtype='step', linewidth=0.2, range=(hist_min, hist_max))\n",
    "print(bins)\n",
    "\n",
    "# rescale the x axis by 1000 to convert from V to mV\n",
    "# ax.set_xticks(ax.get_xticks()*1000)\n",
    "ax.set_xlabel('Voltage (mV)')\n",
    "ax.set_ylabel('counts')\n",
    "plt.tight_layout()\n",
    "\n",
    "\n",
    "# display the number of entries in the upper right corner of the plot\n",
    "n_entries = df.shape[0]\n",
    "ax.text(0.95, 0.95, f'N = {n_entries}', horizontalalignment='right', verticalalignment='top', transform=ax.transAxes, fontsize=8)\n",
    "\n",
    "ax.set_xlabel('Voltage (mV)')\n",
    "ax.set_ylabel('counts')\n",
    "plt.tight_layout()\n",
    "# ax.set_yscale('log')\n",
    "if SAVE_PLOTS:\n",
    "    save_dir = f'plots/sipm_spectroscopy/preliminary/threshhold_4pt4mV'\n",
    "    ax.set_yscale('log')\n",
    "    plt.savefig(f'{save_dir}/spectrum_Co60_10mins_log.png', dpi=200)\n",
    "    ax.set_yscale('linear')\n",
    "    plt.savefig(f'{save_dir}/spectrum_Co60_10mins.png', dpi=200)\n",
    "\n",
    "plt.show()"
   ]
  },
  {
   "cell_type": "code",
   "execution_count": null,
   "metadata": {},
   "outputs": [],
   "source": []
  },
  {
   "cell_type": "markdown",
   "metadata": {},
   "source": []
  },
  {
   "cell_type": "code",
   "execution_count": null,
   "metadata": {},
   "outputs": [],
   "source": []
  }
 ],
 "metadata": {
  "kernelspec": {
   "display_name": "Python 3",
   "language": "python",
   "name": "python3"
  },
  "language_info": {
   "codemirror_mode": {
    "name": "ipython",
    "version": 3
   },
   "file_extension": ".py",
   "mimetype": "text/x-python",
   "name": "python",
   "nbconvert_exporter": "python",
   "pygments_lexer": "ipython3",
   "version": "3.10.11"
  }
 },
 "nbformat": 4,
 "nbformat_minor": 2
}
