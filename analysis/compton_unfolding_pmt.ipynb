{
 "cells": [
  {
   "cell_type": "code",
   "execution_count": 50,
   "metadata": {},
   "outputs": [],
   "source": [
    "\n",
    "import pandas as pd\n",
    "import matplotlib.pyplot as plt\n",
    "import numpy as np\n",
    "from scipy.optimize import curve_fit\n",
    "from scipy.special import erfc"
   ]
  },
  {
   "cell_type": "code",
   "execution_count": 51,
   "metadata": {},
   "outputs": [],
   "source": [
    "\n",
    "# Load the CSV file\n",
    "try:\n",
    "    df = pd.read_csv(r\"data\\pmt_spectroscopy\\vp2ps_20250320-181313_co60_12h_20cm.csv\")  # Replace with your actual file path\n",
    "except FileNotFoundError:\n",
    "    print(\"Error: co60.csv not found.\")\n",
    "    exit()\n",
    "\n",
    "df.columns = [\"index\", \"t\", \"V\"]\n",
    "df[\"mV\"] = df[\"V\"] * 1000\n",
    "bin_width = 4\n",
    "lower_bound = 80\n",
    "upper_bound = 1000\n",
    "bins = np.arange(lower_bound - bin_width / 2, upper_bound + bin_width / 2, bin_width)\n",
    "filtered_df = df[(df[\"mV\"] >= lower_bound) & (df[\"mV\"] <= upper_bound)]\n"
   ]
  },
  {
   "cell_type": "code",
   "execution_count": null,
   "metadata": {},
   "outputs": [],
   "source": [
    "# Get histogram data\n",
    "counts, bin_edges = np.histogram(filtered_df[\"mV\"], bins=bins)\n",
    "bin_centers = (bin_edges[:-1] + bin_edges[1:]) / 2\n",
    "\n",
    "# --- Fitting Functions ---\n",
    "\n",
    "def lognormal_with_tail(x, A, mu, sigma, tail_amplitude, tail_length):\n",
    "    \"\"\"Log-normal peak with an exponential tail extending to higher energies.\"\"\"\n",
    "    lognormal = A * np.exp(-0.5 * ((np.log(x) - mu) / sigma) ** 2) / (x * sigma * np.sqrt(2*np.pi))\n",
    "    tail = tail_amplitude * np.exp(-((x - (np.exp(mu))) / (tail_length * np.exp(sigma)))) * erfc((x-np.exp(mu))/(np.sqrt(2)*np.exp(sigma)))\n",
    "\n",
    "    return lognormal + tail * (x >= np.exp(mu))\n",
    "\n",
    "def gaussian(x, A, mu, sigma):\n",
    "    \"\"\"Simple Gaussian peak.\"\"\"\n",
    "    return A * np.exp(-0.5 * ((x - mu) / sigma) ** 2)\n",
    "\n",
    "\n",
    "def total_fit_function(x, A1, mu1, sigma1, tail_amplitude, tail_length, A2, mu2, sigma2, A3, mu3, sigma3, A4, mu4, sigma4):\n",
    "    \"\"\"Combines a log-normal with tail and three Gaussians.\"\"\"\n",
    "    return (lognormal_with_tail(x, A1, mu1, sigma1, tail_amplitude, tail_length) +\n",
    "            gaussian(x, A2, mu2, sigma2) +\n",
    "            gaussian(x, A3, mu3, sigma3) +\n",
    "            gaussian(x, A4, mu4, sigma4))\n",
    "\n",
    "\n",
    "\n",
    "# --- Initial Guesses and Bounds ---\n",
    "\n",
    "# Peak 1 (background - LOGNORMAL)\n",
    "A1_guess = 2500  # Adjust if needed\n",
    "mu1_guess = 5.3\n",
    "sigma1_guess = 0.4  # This will likely need adjusting\n",
    "tail_amplitude_guess = 500\n",
    "tail_length_guess = 5\n",
    "\n",
    "# Peak 2 (Annihilation - 511 keV) - NEW PEAK\n",
    "A2_guess = 500  # Guess - adjust as needed.\n",
    "mu2_guess = 250  # ~511 keV, but in mV, and adjusted for the PMT response\n",
    "sigma2_guess = 30  # Similar width to other peaks\n",
    "\n",
    "# Peak 3 (Co-60 peak 1)\n",
    "A3_guess = 1100\n",
    "mu3_guess = 540\n",
    "sigma3_guess = 30\n",
    "\n",
    "# Peak 4 (Co-60 peak 2)\n",
    "A4_guess = 800\n",
    "mu4_guess = 585\n",
    "sigma4_guess = 30  # Keep this similar to sigma2\n",
    "\n",
    "initial_guesses = [A1_guess, mu1_guess, sigma1_guess, tail_amplitude_guess, tail_length_guess,\n",
    "                   A2_guess, mu2_guess, sigma2_guess, A3_guess, mu3_guess, sigma3_guess, A4_guess, mu4_guess, sigma4_guess]\n",
    "\n",
    "# Bounds:  CRITICAL for log-normal!\n",
    "#               A1,  mu1, sigma1, tail_amp, tail_len,  A2,  mu2, sigma2,  A3,   mu3, sigma3,    A4,  mu4, sigma4\n",
    "lower_bounds = [0,   4.5,    0.01,     0,          0.1,     0,  200,     10,   0,   500,   10,      0,  570,  10]  # Minimum values\n",
    "upper_bounds = [10000, 6,     1.5,     2000,       50,     4000,510,    80, 4000,  550,    80,   3000,  590, 80]  # Maximum values\n",
    "\n",
    "bounds = (lower_bounds, upper_bounds)\n",
    "\n",
    "\n",
    "# --- Perform the Fit ---\n",
    "try:\n",
    "    popt, pcov = curve_fit(total_fit_function, bin_centers, counts, p0=initial_guesses, bounds=bounds, maxfev=10000)\n",
    "\n",
    "    perr = np.sqrt(np.diag(pcov))\n",
    "\n",
    "    # --- Plotting ---\n",
    "    plt.figure(figsize=(10, 6))\n",
    "    plt.hist(filtered_df[\"mV\"], bins=bins, edgecolor='black', label=\"Data\", histtype='step', color='black')\n",
    "\n",
    "    x_fit = np.linspace(lower_bound, upper_bound, 1000)\n",
    "    y_fit = total_fit_function(x_fit, *popt)\n",
    "    plt.plot(x_fit, y_fit, 'r-', label=\"Total Fit\", linewidth=2)\n",
    "\n",
    "    y_fit_peak1 = lognormal_with_tail(x_fit, *popt[:5])\n",
    "    y_fit_peak2 = gaussian(x_fit, popt[5], popt[6], popt[7])\n",
    "    y_fit_peak3 = gaussian(x_fit, popt[8], popt[9], popt[10])\n",
    "    y_fit_peak4 = gaussian(x_fit, popt[11], popt[12], popt[13])\n",
    "\n",
    "    plt.plot(x_fit, y_fit_peak1, 'g--', label=\"Peak 1 (Background)\", linewidth=1.5)\n",
    "    plt.plot(x_fit, y_fit_peak2, 'b--', label=\"Peak 2 (Annihilation)\", linewidth=1.5)  # Changed label\n",
    "    plt.plot(x_fit, y_fit_peak3, 'm--', label=\"Peak 3 (Co-60 Peak 1)\", linewidth=1.5)\n",
    "    plt.plot(x_fit, y_fit_peak4, 'c--', label=\"Peak 4 (Co-60 Peak 2)\", linewidth=1.5) # Changed label and color\n",
    "\n",
    "    plt.xlabel(\"Voltage (mV)\")\n",
    "    plt.ylabel(\"Frequency\")\n",
    "    plt.title(\"Histogram of Co-60 Voltage Data with Fit\")\n",
    "    plt.xlim(lower_bound, upper_bound)\n",
    "    plt.legend()\n",
    "    plt.grid(True)\n",
    "    plt.yscale(\"linear\")\n",
    "\n",
    "    print(\"Fit Results:\")\n",
    "    param_names = [\"A1\", \"mu1\", \"sigma1\", \"tail_amplitude\", \"tail_length\", \"A2\", \"mu2\", \"sigma2\", \"A3\", \"mu3\", \"sigma3\", \"A4\", \"mu4\", \"sigma4\"]\n",
    "    for i, param_name in enumerate(param_names):\n",
    "        print(f\"{param_name}: {popt[i]:.3f} ± {perr[i]:.3f}\")\n",
    "\n",
    "    plt.show()\n",
    "\n",
    "\n",
    "except RuntimeError as e:\n",
    "    print(f\"Fit failed: {e}\")\n",
    "    plt.figure(figsize=(10, 6))\n",
    "    plt.hist(filtered_df[\"mV\"], bins=bins, edgecolor='black', label=\"Data\")\n",
    "    plt.xlabel(\"Voltage (mV)\")\n",
    "    plt.ylabel(\"Frequency\")\n",
    "    plt.title(\"Histogram of Co-60 Voltage Data (Fit Failed)\")\n",
    "    plt.xlim(lower_bound, upper_bound)\n",
    "    plt.legend()\n",
    "    plt.grid(True)\n",
    "    plt.show()"
   ]
  },
  {
   "cell_type": "code",
   "execution_count": 47,
   "metadata": {},
   "outputs": [
    {
     "name": "stdout",
     "output_type": "stream",
     "text": [
      "Na22 peak at 265.202 +- 35.183 mV\n",
      "Na22 peak at 579.57 +- 40.487 mV\n",
      "Cs137 peak at 326.631 +- 29.154 mV\n",
      "Co60 peak at 524.298 +- 13.425 mV\n",
      "Co60 peak at 594.831 +- 13.214 mV\n"
     ]
    }
   ],
   "source": [
    "def get_mean_stddev(df, min, max):\n",
    "    slice = df[(df['mV'] > min) & (df['mV'] < max)]\n",
    "    mean = slice['mV'].mean().round(3)\n",
    "    stddev = slice['mV'].std().round(3)\n",
    "    return float(mean), float(stddev)\n",
    "\n",
    "def print_point(name, mean, stddev):\n",
    "    res = name\n",
    "    res += r' peak at '\n",
    "    res += str(mean)\n",
    "    res += f' +- '\n",
    "    res += str(stddev)\n",
    "    res += r' mV'\n",
    "    print(res)\n",
    "    # print(r'{} peak at {} $\\pm$ {} mV'.format( mean, stddev))\n",
    "\n",
    "first_peak_na22 = get_mean_stddev(na22_data, 180,370)\n",
    "second_peak_na22 = get_mean_stddev(na22_data, 500,700)\n",
    "first_peak_cs137 = get_mean_stddev(cs137_data, 200,420)\n",
    "first_peak_co60 = get_mean_stddev(co60_data, 500, 550)\n",
    "second_peak_co60 = get_mean_stddev(co60_data, 570,620)\n",
    "\n",
    "print_point(r'Na22', *first_peak_na22)\n",
    "print_point(r'Na22', *second_peak_na22)\n",
    "print_point(r'Cs137', *first_peak_cs137)\n",
    "print_point(r'Co60', *first_peak_co60)\n",
    "print_point(r'Co60', *second_peak_co60)"
   ]
  },
  {
   "cell_type": "code",
   "execution_count": 48,
   "metadata": {},
   "outputs": [
    {
     "data": {
      "text/plain": [
       "<matplotlib.legend.Legend at 0x2c16bbc01c0>"
      ]
     },
     "execution_count": 48,
     "metadata": {},
     "output_type": "execute_result"
    },
    {
     "data": {
      "image/png": "[encoded data removed]",
      "text/plain": [
       "<Figure size 1000x400 with 1 Axes>"
      ]
     },
     "metadata": {},
     "output_type": "display_data"
    }
   ],
   "source": [
    "fig, ax = plt.subplots(1, 1, figsize=(10, 4))\n",
    "ax.hist(na22_data['mV'], bins=bins, density=True, range=(0, 1000), histtype='step', label=r'$Na_{22}$', color='blue')\n",
    "ax.hist(cs137_data['mV'], bins=bins, density=True, range=(0, 1000), histtype='step', label=r'$Cs_{137}$', color= 'green')\n",
    "ax.hist(co60_data['mV'], bins=bins, density=True, range=(0, 1000), histtype='step', label=r'$Co_{60}$', color = 'red')\n",
    "vline_height=0.014\n",
    "plt.vlines(first_peak_na22[0], 0, vline_height, color='blue', label='Na22 peak 1')\n",
    "plt.vlines(second_peak_na22[0], 0, vline_height, color='blue', label='Na22 peak 2')\n",
    "plt.vlines(first_peak_cs137[0], 0, vline_height, color='green', label='Cs137 peak 1')\n",
    "plt.vlines(first_peak_co60[0], 0, vline_height, color='red', label='Co60 peak 1')\n",
    "plt.vlines(second_peak_co60[0], 0, vline_height, color='red', label='Co60 peak 2')\n",
    "\n",
    "\n",
    "ax.set_xlabel('mV')\n",
    "ax.set_ylabel('Counts')\n",
    "ax.legend()\n",
    "\n"
   ]
  },
  {
   "cell_type": "code",
   "execution_count": 49,
   "metadata": {},
   "outputs": [
    {
     "data": {
      "image/png": "[encoded data removed]",
      "text/plain": [
       "<Figure size 640x480 with 1 Axes>"
      ]
     },
     "metadata": {},
     "output_type": "display_data"
    }
   ],
   "source": [
    "# sodium peak at 511 and 1275 KeV\n",
    "plt.scatter(first_peak_na22[0], 511, color='blue')\n",
    "plt.scatter(second_peak_na22[0], 1275, color='blue')\n",
    "# cesium peak at 662 KeV\n",
    "plt.scatter(first_peak_cs137[0], 662, color='green')\n",
    "# cobalt peak at 1173 and 1332 KeV\n",
    "plt.scatter(first_peak_co60[0], 1173, color='red')\n",
    "plt.scatter(second_peak_co60[0], 1332, color='red')\n",
    "plt.grid()\n"
   ]
  },
  {
   "cell_type": "code",
   "execution_count": null,
   "metadata": {},
   "outputs": [],
   "source": []
  }
 ],
 "metadata": {
  "kernelspec": {
   "display_name": "Python 3",
   "language": "python",
   "name": "python3"
  },
  "language_info": {
   "codemirror_mode": {
    "name": "ipython",
    "version": 3
   },
   "file_extension": ".py",
   "mimetype": "text/x-python",
   "name": "python",
   "nbconvert_exporter": "python",
   "pygments_lexer": "ipython3",
   "version": "3.10.11"
  }
 },
 "nbformat": 4,
 "nbformat_minor": 2
}
