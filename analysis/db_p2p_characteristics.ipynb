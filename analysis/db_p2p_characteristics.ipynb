{
 "cells": [
  {
   "cell_type": "code",
   "execution_count": 1,
   "metadata": {},
   "outputs": [],
   "source": [
    "import numpy as np\n",
    "import pandas as pd\n",
    "import matplotlib.pyplot as plt\n",
    "import h5py\n",
    "\n",
    "SAVE_PLOTS=True\n",
    "STANDARD_DPI=300"
   ]
  },
  {
   "cell_type": "code",
   "execution_count": 9,
   "metadata": {},
   "outputs": [
    {
     "data": {
      "text/html": [
       "<div>\n",
       "<style scoped>\n",
       "    .dataframe tbody tr th:only-of-type {\n",
       "        vertical-align: middle;\n",
       "    }\n",
       "\n",
       "    .dataframe tbody tr th {\n",
       "        vertical-align: top;\n",
       "    }\n",
       "\n",
       "    .dataframe thead th {\n",
       "        text-align: right;\n",
       "    }\n",
       "</style>\n",
       "<table border=\"1\" class=\"dataframe\">\n",
       "  <thead>\n",
       "    <tr style=\"text-align: right;\">\n",
       "      <th></th>\n",
       "      <th>time</th>\n",
       "      <th>pmt_high_voltage</th>\n",
       "      <th>pmt_current</th>\n",
       "      <th>v_p2p_ch1</th>\n",
       "      <th>v_rms_ch1</th>\n",
       "      <th>v_p2p_ch2</th>\n",
       "      <th>v_rms_ch2</th>\n",
       "    </tr>\n",
       "  </thead>\n",
       "  <tbody>\n",
       "    <tr>\n",
       "      <th>0</th>\n",
       "      <td>1.741440e+09</td>\n",
       "      <td>700.1</td>\n",
       "      <td>67.780</td>\n",
       "      <td>0.0400</td>\n",
       "      <td>0.010568</td>\n",
       "      <td>0.0408</td>\n",
       "      <td>0.012731</td>\n",
       "    </tr>\n",
       "    <tr>\n",
       "      <th>1</th>\n",
       "      <td>1.741440e+09</td>\n",
       "      <td>705.1</td>\n",
       "      <td>68.495</td>\n",
       "      <td>0.0424</td>\n",
       "      <td>0.011586</td>\n",
       "      <td>0.0424</td>\n",
       "      <td>0.011411</td>\n",
       "    </tr>\n",
       "  </tbody>\n",
       "</table>\n",
       "</div>"
      ],
      "text/plain": [
       "           time  pmt_high_voltage  pmt_current  v_p2p_ch1  v_rms_ch1  \\\n",
       "0  1.741440e+09             700.1       67.780     0.0400   0.010568   \n",
       "1  1.741440e+09             705.1       68.495     0.0424   0.011586   \n",
       "\n",
       "   v_p2p_ch2  v_rms_ch2  \n",
       "0     0.0408   0.012731  \n",
       "1     0.0424   0.011411  "
      ]
     },
     "execution_count": 9,
     "metadata": {},
     "output_type": "execute_result"
    }
   ],
   "source": [
    "def load_noise_data():\n",
    "    noise_levels_filepath = \"data\\dark_pmt\\I_V_noise_700_2285V.csv\"\n",
    "    return pd.read_csv(noise_levels_filepath)\n",
    "noise_data = load_noise_data()\n",
    "noise_data.head(2)"
   ]
  },
  {
   "cell_type": "code",
   "execution_count": 13,
   "metadata": {},
   "outputs": [
    {
     "data": {
      "text/html": [
       "<div>\n",
       "<style scoped>\n",
       "    .dataframe tbody tr th:only-of-type {\n",
       "        vertical-align: middle;\n",
       "    }\n",
       "\n",
       "    .dataframe tbody tr th {\n",
       "        vertical-align: top;\n",
       "    }\n",
       "\n",
       "    .dataframe thead th {\n",
       "        text-align: right;\n",
       "    }\n",
       "</style>\n",
       "<table border=\"1\" class=\"dataframe\">\n",
       "  <thead>\n",
       "    <tr style=\"text-align: right;\">\n",
       "      <th></th>\n",
       "      <th>time</th>\n",
       "      <th>pmt_high_voltage</th>\n",
       "      <th>pmt_current</th>\n",
       "      <th>v_p2p_ch1</th>\n",
       "      <th>v_rms_ch1</th>\n",
       "      <th>v_p2p_ch2</th>\n",
       "      <th>v_rms_ch2</th>\n",
       "    </tr>\n",
       "  </thead>\n",
       "  <tbody>\n",
       "    <tr>\n",
       "      <th>150</th>\n",
       "      <td>1.741441e+09</td>\n",
       "      <td>1449.9</td>\n",
       "      <td>181.795</td>\n",
       "      <td>0.044</td>\n",
       "      <td>0.009966</td>\n",
       "      <td>0.044</td>\n",
       "      <td>0.010358</td>\n",
       "    </tr>\n",
       "  </tbody>\n",
       "</table>\n",
       "</div>"
      ],
      "text/plain": [
       "             time  pmt_high_voltage  pmt_current  v_p2p_ch1  v_rms_ch1  \\\n",
       "150  1.741441e+09            1449.9      181.795      0.044   0.009966   \n",
       "\n",
       "     v_p2p_ch2  v_rms_ch2  \n",
       "150      0.044   0.010358  "
      ]
     },
     "execution_count": 13,
     "metadata": {},
     "output_type": "execute_result"
    }
   ],
   "source": [
    "# find the row inm the data that corresponds to a voltage of 1450V (rounded to the nearest whole number)\n",
    "noiseat1450_row = noise_data.loc[noise_data['pmt_high_voltage'].round() == 1450]\n",
    "noiseat1450_row"
   ]
  },
  {
   "cell_type": "code",
   "execution_count": 2,
   "metadata": {},
   "outputs": [],
   "source": [
    "\n",
    "def load_h5_data(filename):\n",
    "    data = {}\n",
    "    with h5py.File(filename, 'r') as f:\n",
    "        for att in f.keys():\n",
    "            data[int(att)] = {'CH1': [], 'CH2': []}\n",
    "\n",
    "            for i in f[att]['CH1']:\n",
    "                arr = np.array(f[att]['CH1'][i])  # Load as NumPy array\n",
    "                df = pd.DataFrame(arr, columns=['t', 'V'])  # Convert to DataFrame\n",
    "                data[int(att)]['CH1'].append(df)\n",
    "\n",
    "            for i in f[att]['CH2']:\n",
    "                arr = np.array(f[att]['CH2'][i])\n",
    "                df = pd.DataFrame(arr, columns=['t', 'V'])\n",
    "                data[int(att)]['CH2'].append(df)\n",
    "\n",
    "    return data"
   ]
  },
  {
   "cell_type": "code",
   "execution_count": 4,
   "metadata": {},
   "outputs": [
    {
     "data": {
      "text/plain": [
       "[0, 1, 2, 3, 4, 5, 6, 7, 8, 9, 10, 12, 14, 16, 18, 20, 22, 24, 26, 28, 30]"
      ]
     },
     "execution_count": 4,
     "metadata": {},
     "output_type": "execute_result"
    }
   ],
   "source": [
    "signals_filepath = 'data\\pmt_light_attenuation\\signals_20250309-104658.h5'\n",
    "signals = load_h5_data(signals_filepath)\n",
    "keys = sorted(signals.keys())\n",
    "keys"
   ]
  },
  {
   "cell_type": "code",
   "execution_count": 5,
   "metadata": {},
   "outputs": [],
   "source": [
    "def get_avg_p2p(key, channel):\n",
    "    sigs = signals[key][channel]\n",
    "    peak_to_peak = np.array([df['V'].max() - df['V'].min() for df in sigs])\n",
    "    return peak_to_peak.mean()"
   ]
  },
  {
   "cell_type": "code",
   "execution_count": 14,
   "metadata": {},
   "outputs": [
    {
     "data": {
      "text/html": [
       "<div>\n",
       "<style scoped>\n",
       "    .dataframe tbody tr th:only-of-type {\n",
       "        vertical-align: middle;\n",
       "    }\n",
       "\n",
       "    .dataframe tbody tr th {\n",
       "        vertical-align: top;\n",
       "    }\n",
       "\n",
       "    .dataframe thead th {\n",
       "        text-align: right;\n",
       "    }\n",
       "</style>\n",
       "<table border=\"1\" class=\"dataframe\">\n",
       "  <thead>\n",
       "    <tr style=\"text-align: right;\">\n",
       "      <th></th>\n",
       "      <th>attenuation</th>\n",
       "      <th>CH1</th>\n",
       "      <th>CH2</th>\n",
       "    </tr>\n",
       "  </thead>\n",
       "  <tbody>\n",
       "    <tr>\n",
       "      <th>0</th>\n",
       "      <td>0</td>\n",
       "      <td>9.48</td>\n",
       "      <td>8.624</td>\n",
       "    </tr>\n",
       "    <tr>\n",
       "      <th>1</th>\n",
       "      <td>1</td>\n",
       "      <td>8.76</td>\n",
       "      <td>7.712</td>\n",
       "    </tr>\n",
       "  </tbody>\n",
       "</table>\n",
       "</div>"
      ],
      "text/plain": [
       "   attenuation   CH1    CH2\n",
       "0            0  9.48  8.624\n",
       "1            1  8.76  7.712"
      ]
     },
     "execution_count": 14,
     "metadata": {},
     "output_type": "execute_result"
    }
   ],
   "source": [
    "df = pd.DataFrame({'attenuation': keys, 'CH1': [get_avg_p2p(k, 'CH1') for k in keys], 'CH2': [get_avg_p2p(k, 'CH2') for k in keys]})\n",
    "df.head(2)"
   ]
  },
  {
   "cell_type": "code",
   "execution_count": 30,
   "metadata": {},
   "outputs": [
    {
     "data": {
      "image/png": "[encoded data removed]",
      "text/plain": [
       "<Figure size 800x500 with 1 Axes>"
      ]
     },
     "metadata": {},
     "output_type": "display_data"
    }
   ],
   "source": [
    "plt.figure(figsize=(8, 5))\n",
    "plt.scatter(df['attenuation'], df['CH1'], color='green', label='CH1')\n",
    "plt.scatter(df['attenuation'], df['CH2'], color = 'purple', label='CH2')\n",
    "\n",
    "# Add horizontal lines for noise levels\n",
    "plt.axhline(y=noiseat1450_row['v_p2p_ch1'].values[0], color='r', linestyle='--', label='Noise Level CH1')\n",
    "plt.axhline(y=noiseat1450_row['v_p2p_ch2'].values[0], color='b', linestyle='--', label='Noise Level CH2')\n",
    "\n",
    "plt.xlabel('Laser Attenuation (dB)')\n",
    "plt.ylabel('Signal Peak to Peak (V)')\n",
    "plt.title('Signal Attenuation at 1450V PMT Voltage')\n",
    "plt.legend()\n",
    "# plt.grid(True)\n",
    "\n",
    "if SAVE_PLOTS:\n",
    "    savefig_dir = 'plots/pmt_light_attenuation_tests/pmt1/'\n",
    "    plt.savefig(savefig_dir + 'att_sig_1450V.jpg', dpi=STANDARD_DPI)\n",
    "\n",
    "plt.show()"
   ]
  },
  {
   "cell_type": "code",
   "execution_count": 22,
   "metadata": {},
   "outputs": [
    {
     "data": {
      "text/html": [
       "<div>\n",
       "<style scoped>\n",
       "    .dataframe tbody tr th:only-of-type {\n",
       "        vertical-align: middle;\n",
       "    }\n",
       "\n",
       "    .dataframe tbody tr th {\n",
       "        vertical-align: top;\n",
       "    }\n",
       "\n",
       "    .dataframe thead th {\n",
       "        text-align: right;\n",
       "    }\n",
       "</style>\n",
       "<table border=\"1\" class=\"dataframe\">\n",
       "  <thead>\n",
       "    <tr style=\"text-align: right;\">\n",
       "      <th></th>\n",
       "      <th>attenuation</th>\n",
       "      <th>CH1</th>\n",
       "      <th>CH2</th>\n",
       "      <th>SNR_CH1</th>\n",
       "      <th>SNR_CH2</th>\n",
       "    </tr>\n",
       "  </thead>\n",
       "  <tbody>\n",
       "    <tr>\n",
       "      <th>0</th>\n",
       "      <td>0</td>\n",
       "      <td>9.48</td>\n",
       "      <td>8.624</td>\n",
       "      <td>215.454546</td>\n",
       "      <td>196.000001</td>\n",
       "    </tr>\n",
       "    <tr>\n",
       "      <th>1</th>\n",
       "      <td>1</td>\n",
       "      <td>8.76</td>\n",
       "      <td>7.712</td>\n",
       "      <td>199.090910</td>\n",
       "      <td>175.272728</td>\n",
       "    </tr>\n",
       "  </tbody>\n",
       "</table>\n",
       "</div>"
      ],
      "text/plain": [
       "   attenuation   CH1    CH2     SNR_CH1     SNR_CH2\n",
       "0            0  9.48  8.624  215.454546  196.000001\n",
       "1            1  8.76  7.712  199.090910  175.272728"
      ]
     },
     "execution_count": 22,
     "metadata": {},
     "output_type": "execute_result"
    }
   ],
   "source": [
    "# calculate the signal to noise ratios\n",
    "df['SNR_CH1'] = df['CH1'] / noiseat1450_row['v_p2p_ch1'].values[0]\n",
    "df['SNR_CH2'] = df['CH2'] / noiseat1450_row['v_p2p_ch2'].values[0]\n",
    "df.head(2)"
   ]
  },
  {
   "cell_type": "code",
   "execution_count": null,
   "metadata": {},
   "outputs": [
    {
     "data": {
      "image/png": "[encoded data removed]",
      "text/plain": [
       "<Figure size 800x500 with 1 Axes>"
      ]
     },
     "metadata": {},
     "output_type": "display_data"
    }
   ],
   "source": [
    "# plot the signal to noise ratios\n",
    "plt.figure(figsize=(8, 5))\n",
    "\n",
    "plt.scatter(df['attenuation'], df['SNR_CH1'], color='pink', label='CH1')\n",
    "plt.scatter(df['attenuation'], df['SNR_CH2'], color='darkgreen', label='CH2')\n",
    "\n",
    "plt.xlabel('Laser Attenuation (dB)')\n",
    "plt.ylabel('Signal to Noise Ratio')\n",
    "plt.title('Signal to Noise Ratio at 1450V PMT Voltage')\n",
    "plt.legend()\n",
    "# plt.grid(True)\n",
    "\n",
    "if SAVE_PLOTS:\n",
    "    savefig_dir = 'plots/pmt_light_attenuation_tests/pmt1/'\n",
    "    plt.savefig(savefig_dir + 'att_snr_1450V.jpg', dpi=STANDARD_DPI)\n",
    "plt.show()"
   ]
  },
  {
   "cell_type": "code",
   "execution_count": null,
   "metadata": {},
   "outputs": [],
   "source": []
  }
 ],
 "metadata": {
  "kernelspec": {
   "display_name": "Python 3",
   "language": "python",
   "name": "python3"
  },
  "language_info": {
   "codemirror_mode": {
    "name": "ipython",
    "version": 3
   },
   "file_extension": ".py",
   "mimetype": "text/x-python",
   "name": "python",
   "nbconvert_exporter": "python",
   "pygments_lexer": "ipython3",
   "version": "3.10.11"
  }
 },
 "nbformat": 4,
 "nbformat_minor": 2
}
