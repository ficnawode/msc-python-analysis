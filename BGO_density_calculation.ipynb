{
 "cells": [
  {
   "cell_type": "code",
   "execution_count": 3,
   "metadata": {},
   "outputs": [],
   "source": [
    "from uncertainties import ufloat\n",
    "from uncertainties.umath import *\n",
    "\n",
    "import numpy as np\n"
   ]
  },
  {
   "cell_type": "code",
   "execution_count": 12,
   "metadata": {},
   "outputs": [
    {
     "name": "stdout",
     "output_type": "stream",
     "text": [
      "40.83 19.26 150.04\n"
     ]
    }
   ],
   "source": [
    "\n",
    "\n",
    "DELTA_X = 0.1 # in mm\n",
    "DELTA_M = 0.01 # in grams\n",
    "\n",
    "x_s = np.array([8.09, 8.19, 8.18, 8.18, 8.19])\n",
    "y_s = np.array([3.79, 3.86, 3.85, 3.84, 3.92])\n",
    "z_s = np.array([30.00, 30.02, 30.01, 29.98, 30.03])\n",
    "\n",
    "x_avg = np.round(np.sum(x_s)/5, 2)\n",
    "y_avg = np.round(np.sum(y_s)/5, 2)\n",
    "z_avg = np.round(np.sum(z_s)/5, 2)\n",
    "print(x_avg, y_avg, z_avg)"
   ]
  },
  {
   "cell_type": "code",
   "execution_count": 13,
   "metadata": {},
   "outputs": [],
   "source": [
    "V_avg = x_avg * y_avg * z_avg\n",
    "m = 44.47\n",
    "m_avg = m/5"
   ]
  },
  {
   "cell_type": "code",
   "execution_count": 14,
   "metadata": {},
   "outputs": [
    {
     "name": "stdout",
     "output_type": "stream",
     "text": [
      "0.0003768985019380342\n"
     ]
    }
   ],
   "source": [
    "rho = m / (x_total * y_total * z_total)\n",
    "print(rho)"
   ]
  },
  {
   "cell_type": "code",
   "execution_count": null,
   "metadata": {},
   "outputs": [],
   "source": [
    "def calculate_volume(x, y ,z, delta):\n",
    "    x = ufloat(x, delta)\n",
    "    y = ufloat(y, delta)\n",
    "    z = ufloat(z, delta)\n",
    "    return x * y * z"
   ]
  }
 ],
 "metadata": {
  "kernelspec": {
   "display_name": "alpacaconda",
   "language": "python",
   "name": "python3"
  },
  "language_info": {
   "codemirror_mode": {
    "name": "ipython",
    "version": 3
   },
   "file_extension": ".py",
   "mimetype": "text/x-python",
   "name": "python",
   "nbconvert_exporter": "python",
   "pygments_lexer": "ipython3",
   "version": "3.9.4"
  }
 },
 "nbformat": 4,
 "nbformat_minor": 2
}
