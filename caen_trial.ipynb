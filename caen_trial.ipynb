{
 "cells": [
  {
   "cell_type": "code",
   "execution_count": 4,
   "metadata": {},
   "outputs": [
    {
     "name": "stdout",
     "output_type": "stream",
     "text": [
      "Connected to CAEN NDT 1470\n"
     ]
    }
   ],
   "source": [
    "import serial\n",
    "import time\n",
    "\n",
    "# Open serial connection\n",
    "ser = serial.Serial(\n",
    "    port='COM5',  # Change to your port (e.g., '/dev/ttyUSB0' for Linux)\n",
    "    baudrate=9600,\n",
    "    bytesize=8,\n",
    "    parity='N',\n",
    "    stopbits=1,\n",
    "    timeout=2\n",
    ")\n",
    "\n",
    "time.sleep(1)  # Allow time for connection\n",
    "\n",
    "# Check if connection is open\n",
    "if ser.is_open:\n",
    "    print(\"Connected to CAEN NDT 1470\")\n",
    "\n"
   ]
  },
  {
   "cell_type": "code",
   "execution_count": 26,
   "metadata": {},
   "outputs": [
    {
     "data": {
      "text/plain": [
       "'#BD:00,CMD:OK,VAL:000.000'"
      ]
     },
     "execution_count": 26,
     "metadata": {},
     "output_type": "execute_result"
    }
   ],
   "source": [
    "\n",
    "\n",
    "ser.write(b'$BD:00,CMD:MON,CH:3,PAR:IMON\\r\\n')  # Send command to device\n",
    "ser.readline().decode().strip()  # Read response from device\n"
   ]
  },
  {
   "cell_type": "code",
   "execution_count": null,
   "metadata": {},
   "outputs": [],
   "source": [
    "# $BD:xx,CMD:SET,CH:X,PAR:VSET,VAL:value"
   ]
  },
  {
   "cell_type": "code",
   "execution_count": null,
   "metadata": {},
   "outputs": [],
   "source": [
    "\n",
    "# Define slot and channel\n",
    "slot = 0       # Adjust according to your setup\n",
    "channel = 0    # Channel number to control\n",
    "\n",
    "# Set voltage\n",
    "voltage = 500  # Set to 500V, adjust as needed\n",
    "caen.SetChannelParameter(handle, slot, channel, \"VSet\", voltage)\n",
    "\n",
    "# Enable the channel\n",
    "caen.SetChannelParameter(handle, slot, channel, \"Pw\", 1)\n",
    "\n",
    "# Read current\n",
    "current = caen.GetChannelParameter(handle, slot, channel, \"IMon\")\n",
    "print(f\"Measured Current: {current} µA\")\n",
    "\n",
    "# Close connection\n",
    "caen.CloseHV(handle)"
   ]
  },
  {
   "cell_type": "code",
   "execution_count": null,
   "metadata": {},
   "outputs": [],
   "source": []
  }
 ],
 "metadata": {
  "kernelspec": {
   "display_name": "Python 3",
   "language": "python",
   "name": "python3"
  },
  "language_info": {
   "codemirror_mode": {
    "name": "ipython",
    "version": 3
   },
   "file_extension": ".py",
   "mimetype": "text/x-python",
   "name": "python",
   "nbconvert_exporter": "python",
   "pygments_lexer": "ipython3",
   "version": "3.10.11"
  }
 },
 "nbformat": 4,
 "nbformat_minor": 2
}
